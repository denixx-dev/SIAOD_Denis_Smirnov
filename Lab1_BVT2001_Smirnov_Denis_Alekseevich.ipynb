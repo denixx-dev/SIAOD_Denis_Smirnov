{
 "cells": [
  {
   "cell_type": "markdown",
   "id": "bc13f0c2",
   "metadata": {},
   "source": [
    "# Лабораторная работа №1\n",
    "## Выполнил студент группы БВТ2001 Смирнов Денис Алексеевич\n",
    "### Задание №1\n",
    "Вывести на экран \"Hello, world\""
   ]
  },
  {
   "cell_type": "code",
   "execution_count": 21,
   "id": "4c4247db",
   "metadata": {},
   "outputs": [
    {
     "name": "stdout",
     "output_type": "stream",
     "text": [
      "Hello, world\n"
     ]
    }
   ],
   "source": [
    "print(\"Hello, world\")"
   ]
  },
  {
   "cell_type": "markdown",
   "id": "fef4d330",
   "metadata": {},
   "source": [
    "### Задание №2\n",
    "Написать генератор случайных матриц"
   ]
  },
  {
   "cell_type": "code",
   "execution_count": 47,
   "id": "28dd89e5",
   "metadata": {},
   "outputs": [
    {
     "name": "stdout",
     "output_type": "stream",
     "text": [
      "m =3\n",
      "n =3\n",
      "min_limit =22\n",
      "max_limit =222\n",
      "[[117, 105, 143], [210, 190, 164], [122, 27, 78]]\n"
     ]
    }
   ],
   "source": [
    "from random import *\n",
    "\n",
    "m = int(input(\"m =\") or 50) \n",
    "n = int(input(\"n =\") or 50) \n",
    "\n",
    "min_lim = int(input(\"min_limit =\") or -250) \n",
    "max_lim = int(input(\"max_limit =\") or 1000+20) \n",
    "\n",
    "#arr = [[randint(min_lim, max_lim) for j in range(n)] for i in range(m)]\n",
    "\n",
    "arr = []\n",
    "\n",
    "for i in range(m):\n",
    "    arr.append([])\n",
    "    for j in range(n):\n",
    "        arr[i].append(randint(min_lim, max_lim))\n",
    "\n",
    "\n",
    "print(arr)"
   ]
  },
  {
   "cell_type": "markdown",
   "id": "b3b0894a",
   "metadata": {},
   "source": [
    "### Задание №3\n",
    "Реализовать методы сортировки строк числовой матрицы"
   ]
  },
  {
   "cell_type": "markdown",
   "id": "7ca6d835",
   "metadata": {},
   "source": [
    "### Метод выбором"
   ]
  },
  {
   "cell_type": "code",
   "execution_count": 110,
   "id": "e7a99882",
   "metadata": {},
   "outputs": [
    {
     "name": "stdout",
     "output_type": "stream",
     "text": [
      "m =3\n",
      "n =3\n",
      "min_limit =\n",
      "max_limit =\n",
      "[[721, 38, 551], [851, 684, -186], [713, 856, 281]]\n",
      "\n",
      "[-186, 38, 281, 551, 684, 713, 721, 851, 856]\n",
      "\n",
      "[-186, 38, 281]\n",
      "[551, 684, 713]\n",
      "[721, 851, 856]\n"
     ]
    }
   ],
   "source": [
    "from random import *\n",
    "\n",
    "m = int(input(\"m =\") or 50) \n",
    "n = int(input(\"n =\") or 50) \n",
    "\n",
    "min_lim = int(input(\"min_limit =\") or -250) \n",
    "max_lim = int(input(\"max_limit =\") or 1000+20) \n",
    "\n",
    "#arr = [[randint(min_lim, max_lim) for j in range(n)] for i in range(m)]\n",
    "\n",
    "arr = []\n",
    "\n",
    "\n",
    "#Matrix filling\n",
    "for i in range(m):\n",
    "    arr.append([])\n",
    "    for j in range(n):\n",
    "        arr[i].append(randint(min_lim, max_lim))\n",
    "print(arr)\n",
    "\n",
    "#Matrix sorting\n",
    "def select_sort(arr):\n",
    "    for i in range(0, len(arr)):\n",
    "        min_val = i\n",
    "        for j in range(i+1, len(arr)):\n",
    "            if arr[j] < arr[min_val]:\n",
    "                min_val = j\n",
    "        arr[i], arr[min_val] = arr[min_val], arr[i]\n",
    "    return arr\n",
    "\n",
    "#Converts matrix in 1-dimnensional array\n",
    "def matrix_2_arr(arr):\n",
    "    new_arr = []\n",
    "    for i in arr:\n",
    "        for j in i:\n",
    "            new_arr.append(j)\n",
    "    return new_arr\n",
    "\n",
    "print()\n",
    "sorted_arr = select_sort(matrix_2_arr(arr))\n",
    "print(sorted_arr)\n",
    "\n",
    "final_matr = []\n",
    "\n",
    "for i in range(m):\n",
    "    final_matr.append([])\n",
    "    for j in range(n):\n",
    "        final_matr[i].append(sorted_arr[i*n+j])\n",
    "\n",
    "print()\n",
    "for i in final_matr:\n",
    "    print(i)   \n"
   ]
  },
  {
   "cell_type": "code",
   "execution_count": null,
   "id": "809837c9",
   "metadata": {},
   "outputs": [],
   "source": []
  },
  {
   "cell_type": "code",
   "execution_count": null,
   "id": "a22391bc",
   "metadata": {},
   "outputs": [],
   "source": []
  }
 ],
 "metadata": {
  "celltoolbar": "Отсутствует",
  "kernelspec": {
   "display_name": "Python 3",
   "language": "python",
   "name": "python3"
  },
  "language_info": {
   "codemirror_mode": {
    "name": "ipython",
    "version": 3
   },
   "file_extension": ".py",
   "mimetype": "text/x-python",
   "name": "python",
   "nbconvert_exporter": "python",
   "pygments_lexer": "ipython3",
   "version": "3.8.3"
  }
 },
 "nbformat": 4,
 "nbformat_minor": 5
}
