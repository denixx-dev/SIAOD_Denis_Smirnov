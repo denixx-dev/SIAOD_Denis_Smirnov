{
 "cells": [
  {
   "cell_type": "markdown",
   "id": "fifteen-sailing",
   "metadata": {},
   "source": [
    "# Набор заданий №3\n",
    "\n",
    "### Задание 1\n",
    "В Тридевятом Царстве уже много лет как установилась конституционная монархия. В парламент Тридевятого царства входят 26 партий, обозначаемых строчными буквами английского алфавита от «a» до «z». Заседание парламента в соответствии с регламентом проходит по следующей схеме:\n",
    "- В начале заседания никаких законопроектов на повестке дня не стоит.\n",
    "- Любая партия (в том числе и та, которая внесла текущий законопроект) в любой момент времени может внести на обсуждение новый законопроект.\n",
    "- При вносе партией нового законопроекта обсуждение предыдущего приостанавливается и начинается обсуждение нового. После того, как парламентарии голосуют за новый законопроект, обсуждение законопроекта, прерванного им, продолжается.\n",
    "- Дискуссия по любому законопроекту обязана завершиться голосованием по этому законопроекту.\n",
    "- В конце заседания не должно остаться внесённых законопроектов, дискуссия по которым не завершена.\n",
    "\n",
    "Вам дана запись о событиях на сессии парламента. Каждое событие является либо внесением нового законопроекта, либо голосованием за какой-то законопроект, причём в обоих случаях известен номер партии, этот законопроект предложившей. События даны в том порядке, в котором они происходили. Проверьте, может ли данная запись о событиях соответствовать какому-либо заседанию, удовлетворяющему порядку проведения, описанному выше.\n",
    "#### Ввод\n",
    "Первая строка входных данных содержит одно целое число *K* – количество строк в записи сессии (1 ≤ *K* ≤ 1000). Каждая строка соответствует одному из двух событий:\n",
    "\n",
    "- Add *x* – партия x внесла на голосование законопроект.\n",
    "- Vote *x* – прошло голосование за документ, внесённый партией *x*.\n",
    "\n",
    "Здесь *x* – строчная буква английского алфавита от «a» до «z», задающая партию.\n",
    "#### Вывод\n",
    "Выведите «Yes», если существует корректный порядок проведения заседания, который мог привести к такой записи, и «No», если ни при каком корректном порядке проведения заседания данная запись появиться не могла."
   ]
  },
  {
   "cell_type": "code",
   "execution_count": 13,
   "id": "concerned-lewis",
   "metadata": {},
   "outputs": [
    {
     "name": "stdout",
     "output_type": "stream",
     "text": [
      "7\n",
      "['Add e', 'Vote e', 'Add e', 'Vote e', 'Vote m', 'Add e', 'Vote e']\n",
      "No\n"
     ]
    }
   ],
   "source": [
    "import random\n",
    "import string\n",
    "\n",
    "def rand_act():\n",
    "    return random.choice([\"Add \", \"Vote \"])\n",
    "\n",
    "# Функция по генерации списка действий партий\n",
    "def actions(k, act_list):\n",
    "    party = random.choice(string.ascii_lowercase)\n",
    "    while len(act_list) < k:\n",
    "        if len(act_list) > 0:\n",
    "            ind = random.randint(0, len(act_list))\n",
    "            act_list.insert(ind, 'Vote ' + party)\n",
    "            act_list.insert(ind, 'Add ' + party)\n",
    "        else:\n",
    "            act_list.insert(0, 'Vote ' + party)\n",
    "            act_list.insert(0, 'Add ' + party)\n",
    "    return act_list\n",
    "\n",
    "def check_act_list(act_list):\n",
    "    last_act = None\n",
    "    last_party = None\n",
    "    toPop = None\n",
    "    \n",
    "    if len(act_list) % 2 ==1:\n",
    "        return \"No\"\n",
    "    \n",
    "    action, party = act_list[0].split()\n",
    "    if action == \"Vote\":\n",
    "        return \"No\"\n",
    "    \n",
    "    for j in range(len(act_list)):\n",
    "        (action, party) = act_list[j].split()\n",
    "        if last_act != None:\n",
    "            if last_act == 'Add' and action == \"Vote\":\n",
    "                if last_party != party:\n",
    "                    return 'No'\n",
    "                else:\n",
    "                    toPop = j\n",
    "        last_act = action\n",
    "        last_party = party\n",
    "        \n",
    "    act_list.pop(toPop)\n",
    "    act_list.pop(toPop-1)\n",
    "    return \"Yes\"\n",
    "\n",
    "k = (int)(input())\n",
    "\n",
    "if k % 2 == 1:\n",
    "    act_list = [rand_act() + random.choice(string.ascii_lowercase)]\n",
    "else:\n",
    "    act_list = []\n",
    "    \n",
    "act_list = actions(k, act_list)\n",
    "\n",
    "print(act_list)\n",
    "print(check_act_list(act_list))"
   ]
  },
  {
   "cell_type": "markdown",
   "id": "controversial-location",
   "metadata": {},
   "source": [
    "### Задача 2. Правильный подмногоугольник\n",
    "\n",
    "Задан правильный *N*-угольник. Требуется выбрать наименьшее количество его вершин, которые также образуют правильный многоугольник.\n",
    "\n",
    "#### Входные данные\n",
    "\n",
    "Входные данные содержат одно целое число *N* (3 ≤ *N* ≤ 1012).\n",
    "\n",
    "#### Вывод\n",
    "\n",
    "Выведите одно число — наименьшее количество вершин заданного многоугольника, которые образуют правильный многоугольник."
   ]
  },
  {
   "cell_type": "code",
   "execution_count": 2,
   "id": "coated-highway",
   "metadata": {},
   "outputs": [
    {
     "name": "stdout",
     "output_type": "stream",
     "text": [
      "27\n",
      "3\n"
     ]
    }
   ],
   "source": [
    "N = int(input())\n",
    "arr = [i for i in range(3,1013) if N%i == 0]\n",
    "print(arr[0])"
   ]
  },
  {
   "cell_type": "markdown",
   "id": "cordless-fundamentals",
   "metadata": {},
   "source": [
    "### Задача 3.\n",
    "\n",
    "На форуме, на котором обсуждаются задачи олимпиад по информатике, ввели следующий аналог капчи. Участнику выдаётся строка из *N* десятичных цифр (без ведущих нулей). В качестве ответа требуется ввести такое основание системы счисления *B*, что в этой системе счисления выданная запись будет соответствовать составному числу (назовем его *D*), а также число *X*, большее 1 и меньшее *D*, являющееся делителем *D*.\n",
    "\n",
    "При этом *B* и *X* не должны превосходить 10^9.\n",
    "\n",
    "По заданной строке десятичных цифр найдите любую пару чисел *B* и *X*, удовлетворяющую ограничениям, или ответьте, что решения в заданных ограничениях не существует.\n",
    "\n",
    "#### Входные данные\n",
    "\n",
    "Входные данные состоят из непустой строки длиной до 3 ⋅ 106 символов, составленной из цифр от 0 до 9 и не начинающейся с 0.\n",
    "\n",
    "#### Вывод\n",
    "\n",
    "Если решение существует, выведите два числа – основание системы счисления *B* и делитель *X*, записанные в десятичной системе счисления. Оба числа должны удовлетворять ограничениям 2 ≤ *B*, *X* ≤ 10^9. Если решения не существует, выведите –1."
   ]
  },
  {
   "cell_type": "code",
   "execution_count": 2,
   "id": "jewish-rocket",
   "metadata": {
    "scrolled": true
   },
   "outputs": [
    {
     "name": "stdout",
     "output_type": "stream",
     "text": [
      "10\n",
      "[[2, 2], [2, 5], [2, 10], [2, 101], [2, 202], [4, 2], [5, 2], [5, 4], [5, 5], [6, 2], [8, 2], [8, 3], [8, 4]]\n"
     ]
    }
   ],
   "source": [
    "seq = int(input())\n",
    "res = []\n",
    "\n",
    "i = 2\n",
    "\n",
    "while i != seq:\n",
    "    sub_seq = seq\n",
    "    concat = \"\"\n",
    "    while sub_seq > 0:\n",
    "        concat = str(sub_seq % i) + concat\n",
    "        sub_seq //= i\n",
    "        syst = i\n",
    "    int_concat = int(concat)\n",
    "    for j in range(2, (int_concat+1)//2):\n",
    "        if int_concat % j ==0:\n",
    "            res.append([syst, j])\n",
    "    i+=1\n",
    "if len(res) != 0:\n",
    "    print(res)\n",
    "else:\n",
    "    print(-1)"
   ]
  },
  {
   "cell_type": "code",
   "execution_count": null,
   "id": "8b697328",
   "metadata": {},
   "outputs": [],
   "source": []
  },
  {
   "cell_type": "code",
   "execution_count": null,
   "id": "20bbeba9",
   "metadata": {},
   "outputs": [],
   "source": []
  }
 ],
 "metadata": {
  "kernelspec": {
   "display_name": "Python 3",
   "language": "python",
   "name": "python3"
  },
  "language_info": {
   "codemirror_mode": {
    "name": "ipython",
    "version": 3
   },
   "file_extension": ".py",
   "mimetype": "text/x-python",
   "name": "python",
   "nbconvert_exporter": "python",
   "pygments_lexer": "ipython3",
   "version": "3.8.3"
  }
 },
 "nbformat": 4,
 "nbformat_minor": 5
}
