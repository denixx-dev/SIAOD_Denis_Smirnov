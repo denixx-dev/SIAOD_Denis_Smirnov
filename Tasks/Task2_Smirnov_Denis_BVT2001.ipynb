{
 "cells": [
  {
   "cell_type": "markdown",
   "id": "arctic-stocks",
   "metadata": {},
   "source": [
    "### Задание №1\n",
    "Массив A состоит из целых положительных чисел длин отрезков. Составьте из трех отрезков такой треугольник, чтобы его периметр был максимально возможным. Если невозможно составить треугольник с положительной площадью функция возвращает 0."
   ]
  },
  {
   "cell_type": "code",
   "execution_count": 2,
   "id": "caring-truck",
   "metadata": {
    "scrolled": false
   },
   "outputs": [
    {
     "name": "stdout",
     "output_type": "stream",
     "text": [
      "enter length of the array\n",
      "4\n",
      "\n",
      "1\n",
      "2\n",
      "2\n",
      "3\n",
      "\n",
      "7\n"
     ]
    }
   ],
   "source": [
    "def max_perimeter(arr):\n",
    "    new_arr = sorted(arr)\n",
    "    i = len(new_arr)-3\n",
    "    #for i in range(length-3, -1, -1):\n",
    "    while i>=0:\n",
    "        if new_arr[i] + new_arr[i+1]>new_arr[i+2]:\n",
    "            return new_arr[i] + new_arr[i+1] + new_arr[i+2]\n",
    "        i-=1\n",
    "    return 0\n",
    " \n",
    "n = int(input(\"enter length of the array\\n\"))\n",
    "print()\n",
    "arr = []\n",
    "for i in range(n):\n",
    "    arr.append(int(input()))\n",
    "\n",
    "print()\n",
    "print(max_perimeter(arr))"
   ]
  },
  {
   "cell_type": "markdown",
   "id": "maritime-conversation",
   "metadata": {},
   "source": [
    "### Задание №2\n",
    "Дан массив неотрицательных целых чисел nums. Расположите их в таком порядке, чтобы вместе они образовали максимально возможное число. Замечание: Результат может быть очень большим числом, поэтому представьте его как string, а не integer."
   ]
  },
  {
   "cell_type": "code",
   "execution_count": null,
   "id": "alert-charm",
   "metadata": {
    "scrolled": false
   },
   "outputs": [],
   "source": [
    "nums = [str(input()) for i in range(n)]\n",
    "length = 0\n",
    "num_mas = []\n",
    "\n",
    "def minlen(mas):\n",
    "    min_len = 100\n",
    "    for i in mas:\n",
    "        if len(i) < min_len:\n",
    "            min_len = len{i}\n",
    "    return min_len\n",
    "\n",
    "def deg_op(first_num):\n",
    "    deg_res = \"\"\n",
    "    for i in range(len(mas)):\n",
    "        if (mas[i][0] == str(first_num)): \n",
    "            num_mas.append(mas[i])\n",
    "    length = minlen()\n",
    "\n",
    "    if (length == 0): return \"\"\n",
    "    while(True):\n",
    "        choise = \"0\"*length\n",
    "        for i in num_mas:\n",
    "            if int(i[0:length]) == int(str(choise)[0:length]):\n",
    "                choise = min(int(i), int(choise))\n",
    "            if int(i[0:length]) > int(str(choise)[0:length]):\n",
    "                choise = str(i)\n",
    "        if (choise == \"0\"*length): break\n",
    "        deg_res += str(choise)\n",
    "        num_mas.pop(num_mas.index(str(choise)))\n",
    "        length = minlen()\n",
    "    return deg_res\n",
    "\n",
    "def max_deg():\n",
    "    res = \"\"\n",
    "    for i in range(9, 0, -1):\n",
    "        res += deg_op(i)\n",
    "    print(res)\n",
    "    \n",
    "max_deg()"
   ]
  },
  {
   "cell_type": "markdown",
   "id": "catholic-roots",
   "metadata": {},
   "source": [
    "### Задание №3\n",
    "Дана матрица mat размером m * n, значения целочисленные. Напишите функцию, сортирующую каждую диагональ матрицы по возрастанию и возвращающую получившуюся матрицу."
   ]
  },
  {
   "cell_type": "code",
   "execution_count": null,
   "id": "cleared-anniversary",
   "metadata": {
    "scrolled": false
   },
   "outputs": [],
   "source": []
  }
 ],
 "metadata": {
  "kernelspec": {
   "display_name": "Python 3",
   "language": "python",
   "name": "python3"
  },
  "language_info": {
   "codemirror_mode": {
    "name": "ipython",
    "version": 3
   },
   "file_extension": ".py",
   "mimetype": "text/x-python",
   "name": "python",
   "nbconvert_exporter": "python",
   "pygments_lexer": "ipython3",
   "version": "3.8.3"
  }
 },
 "nbformat": 4,
 "nbformat_minor": 5
}
