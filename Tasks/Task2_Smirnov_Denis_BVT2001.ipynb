{
 "cells": [
  {
   "cell_type": "markdown",
   "id": "arctic-stocks",
   "metadata": {},
   "source": [
    "### Задание №1\n",
    "Массив A состоит из целых положительных чисел длин отрезков. Составьте из трех отрезков такой треугольник, чтобы его периметр был максимально возможным. Если невозможно составить треугольник с положительной площадью функция возвращает 0."
   ]
  },
  {
   "cell_type": "code",
   "execution_count": 2,
   "id": "caring-truck",
   "metadata": {
    "scrolled": false
   },
   "outputs": [
    {
     "name": "stdout",
     "output_type": "stream",
     "text": [
      "enter length of the array\n",
      "4\n",
      "\n",
      "1\n",
      "2\n",
      "2\n",
      "3\n",
      "\n",
      "7\n"
     ]
    }
   ],
   "source": [
    "def max_perimeter(arr):\n",
    "    new_arr = sorted(arr)\n",
    "    i = len(new_arr)-3\n",
    "    #for i in range(length-3, -1, -1):\n",
    "    while i>=0:\n",
    "        if new_arr[i] + new_arr[i+1]>new_arr[i+2]:\n",
    "            return new_arr[i] + new_arr[i+1] + new_arr[i+2]\n",
    "        i-=1\n",
    "    return 0\n",
    " \n",
    "n = int(input(\"enter length of the array\\n\"))\n",
    "print()\n",
    "arr = []\n",
    "for i in range(n):\n",
    "    arr.append(int(input()))\n",
    "\n",
    "print()\n",
    "print(max_perimeter(arr))"
   ]
  },
  {
   "cell_type": "markdown",
   "id": "maritime-conversation",
   "metadata": {},
   "source": [
    "### Задание №2\n",
    "Дан массив неотрицательных целых чисел nums. Расположите их в таком порядке, чтобы вместе они образовали максимально возможное число. Замечание: Результат может быть очень большим числом, поэтому представьте его как string, а не integer."
   ]
  },
  {
   "cell_type": "code",
   "execution_count": null,
   "id": "alert-charm",
   "metadata": {
    "scrolled": false
   },
   "outputs": [],
   "source": [
    "nums = [str(input()) for i in range(n)]\n",
    "length = 0\n",
    "num_mas = []\n",
    "\n",
    "def minlen(mas):\n",
    "    min_len = 100\n",
    "    for i in mas:\n",
    "        if len(i) < min_len:\n",
    "            min_len = len{i}\n",
    "    return min_len\n",
    "\n",
    "def deg_op(first_num):\n",
    "    deg_res = \"\"\n",
    "    for i in range(len(mas)):\n",
    "        if (mas[i][0] == str(first_num)): \n",
    "            num_mas.append(mas[i])\n",
    "    length = minlen()\n",
    "\n",
    "    if (length == 0): return \"\"\n",
    "    while(True):\n",
    "        choise = \"0\"*length\n",
    "        for i in num_mas:\n",
    "            if int(i[0:length]) == int(str(choise)[0:length]):\n",
    "                choise = min(int(i), int(choise))\n",
    "            if int(i[0:length]) > int(str(choise)[0:length]):\n",
    "                choise = str(i)\n",
    "        if (choise == \"0\"*length): break\n",
    "        deg_res += str(choise)\n",
    "        num_mas.pop(num_mas.index(str(choise)))\n",
    "        length = minlen()\n",
    "    return deg_res\n",
    "\n",
    "def max_deg():\n",
    "    res = \"\"\n",
    "    for i in range(9, 0, -1):\n",
    "        res += deg_op(i)\n",
    "    print(res)\n",
    "    \n",
    "max_deg()"
   ]
  },
  {
   "cell_type": "markdown",
   "id": "catholic-roots",
   "metadata": {},
   "source": [
    "### Задание №3\n",
    "Дана матрица mat размером m * n, значения целочисленные. Напишите функцию, сортирующую каждую диагональ матрицы по возрастанию и возвращающую получившуюся матрицу."
   ]
  },
  {
   "cell_type": "code",
   "execution_count": 19,
   "id": "cleared-anniversary",
   "metadata": {
    "scrolled": false
   },
   "outputs": [
    {
     "name": "stdout",
     "output_type": "stream",
     "text": [
      "[76, -5, 37, 81]\n",
      "[-37, 81, 27, 5]\n",
      "[-32, 54, 63, -29]\n",
      "[-34, -76, -99, -85]\n",
      "\n",
      " -85 -29   5  81\n",
      "\n",
      " -99  63  -5  37\n",
      "\n",
      " -76 -37  76  27\n",
      "\n",
      " -34 -32  54  81\n",
      "\n"
     ]
    }
   ],
   "source": [
    "from collections import defaultdict\n",
    "import heapq\n",
    "from random import randint\n",
    "\n",
    "def disp_matr(arr):\n",
    "    for i in arr:\n",
    "        print(''.join('%4d'% j for j in i))\n",
    "        print()\n",
    "def diag_sort(diag, m, n):\n",
    "    d = defaultdict(list)\n",
    "    for i in range(m):\n",
    "        for j in range(n):\n",
    "            heapq.heappush(d[i-j], diag[i][j])\n",
    "    return [[heapq.heappop(d[i-j]) for j in range(n)] for i in range(m)]\n",
    "\n",
    "\n",
    "m, n = 4, 4\n",
    "arr = [[randint(-100,100) for i in range(n)] for j in range(m)]\n",
    "\n",
    "for i in arr:\n",
    "    print(i)\n",
    "\n",
    "print()\n",
    "sorted_arr = diag_sort(arr, m, n)\n",
    "\n",
    "disp_matr(sorted_arr)"
   ]
  },
  {
   "cell_type": "code",
   "execution_count": null,
   "id": "e43dda34",
   "metadata": {},
   "outputs": [],
   "source": []
  }
 ],
 "metadata": {
  "kernelspec": {
   "display_name": "Python 3 (ipykernel)",
   "language": "python",
   "name": "python3"
  },
  "language_info": {
   "codemirror_mode": {
    "name": "ipython",
    "version": 3
   },
   "file_extension": ".py",
   "mimetype": "text/x-python",
   "name": "python",
   "nbconvert_exporter": "python",
   "pygments_lexer": "ipython3",
   "version": "3.9.7"
  }
 },
 "nbformat": 4,
 "nbformat_minor": 5
}
