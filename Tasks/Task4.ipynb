{
 "cells": [
  {
   "cell_type": "markdown",
   "metadata": {
    "id": "GAofe20AqjPg"
   },
   "source": [
    "# Набор заданий №4\n",
    "\n",
    "### Задача 1. Самая длинная подстрока без повторяющихся символов\n",
    "Дана строка s, найдите длину самой длинной подстроки без повторяющихся символов.\n",
    "\n",
    " \n",
    "\n",
    "Пример 1:\n",
    "```\n",
    "Ввод: s = \"abcabcbb\"\n",
    "Вывод: 3\n",
    "Объяснение: Ответ \"abc\", длина 3.\n",
    "````\n",
    "\n",
    "Пример 2:\n",
    "```\n",
    "Вход: s = \"bbbb\"\n",
    "Выход: 1\n",
    "Объяснение: Ответ \"b\" с длиной 1.\n",
    "```\n",
    "Пример 3:\n",
    "```\n",
    "Ввод: s = \"pwwkew\"\n",
    "Вывод: 3\n",
    "Объяснение: Ответ \"wke\" с длиной 3.\n",
    "```\n",
    "*Обратите внимание, что ответ должен быть подстрокой, «pwke» — это подпоследовательность, а не подстрока.*"
   ]
  },
  {
   "cell_type": "code",
   "execution_count": 18,
   "metadata": {
    "id": "xUAOuo4wqpql"
   },
   "outputs": [
    {
     "name": "stdout",
     "output_type": "stream",
     "text": [
      "Ответ \"wke\" с длиной 3\n"
     ]
    }
   ],
   "source": [
    "def fibonacci_search(l, user_num):\n",
    "    fibM_minus_2 = 0\n",
    "    fibM_minus_1 = 1\n",
    "    fibM = fibM_minus_1 + fibM_minus_2\n",
    "    while (fibM < len(l)):\n",
    "        fibM_minus_2 = fibM_minus_1\n",
    "        fibM_minus_1 = fibM\n",
    "        fibM = fibM_minus_1 + fibM_minus_2\n",
    "    index = -1\n",
    "    while (fibM > 1):\n",
    "        i = min(index + fibM_minus_2, (len(l)-1))\n",
    "        if (l[i] < user_num):\n",
    "            fibM = fibM_minus_1\n",
    "            fibM_minus_1 = fibM_minus_2\n",
    "            fibM_minus_2 = fibM - fibM_minus_1\n",
    "            index = i\n",
    "        elif (l[i] > user_num):\n",
    "            fibM = fibM_minus_2\n",
    "            fibM_minus_1 = fibM_minus_1 - fibM_minus_2\n",
    "            fibM_minus_2 = fibM - fibM_minus_1\n",
    "        else :\n",
    "            return i\n",
    "    if(fibM_minus_1 and index < (len(l)-1) and l[index+1] == user_num):\n",
    "        return index+1\n",
    "    return -1\n",
    "def longest_sub(string):\n",
    "    last_substring = ''\n",
    "    max_substring  = ''\n",
    "    for i in string:\n",
    "        k = fibonacci_search(last_substring,i)\n",
    "        last_substring = last_substring[(k+1):]+i\n",
    "        if len(last_substring) > len(max_substring):\n",
    "            max_substring  = last_substring        \n",
    "    return max_substring\n",
    "\n",
    "res = longest_sub(\"pwwkew\")\n",
    "len_res = len(res)\n",
    "print(f\"Ответ \\\"{res}\\\" с длиной {len_res}\")"
   ]
  },
  {
   "cell_type": "code",
   "execution_count": 2,
   "metadata": {},
   "outputs": [
    {
     "name": "stdout",
     "output_type": "stream",
     "text": [
      "cdef\n"
     ]
    }
   ],
   "source": [
    "st ='abcdef'\n",
    "print(st[2:])"
   ]
  },
  {
   "cell_type": "markdown",
   "metadata": {
    "id": "diOb-K7LnO5a"
   },
   "source": [
    "### Задача 2. Сумма комбинации\n",
    "\n",
    "Учитывая список различных целых чисел candidates и целевое целое число target, вернуть список всех уникальных комбинаций из списка candidates, где сумма выбранных чисел равна target. \n",
    "\n",
    "\n",
    "Один и тот же элемент списка candidates можно выбирать неограниченное количество раз. Две комбинации уникальны, если частота хотя бы одного из выбранных чисел различна.\n",
    "\n",
    "Гарантируется, что количество уникальных комбинаций, которые в сумме составляют target меньше чем 150. Также гарантируется, что элементы списка candidates не повторяются.\n",
    "\n",
    "\n",
    "Пример 1:\n",
    "```\n",
    "Ввод: кандидаты = [2,3,6,7], цель = 7\n",
    "Вывод: [[2,2,3],[7]]\n",
    "Объяснение: \n",
    "2 и 3 — кандидаты, а 2 + 2 + 3 = 7. Примечание. что 2 можно использовать несколько раз. \n",
    "7 — кандидат, и 7 = 7. \n",
    "Это единственные две комбинации.\n",
    "```\n",
    "Пример 2:\n",
    "```\n",
    "Ввод: кандидаты = [2,3,5], цель = 8\n",
    "Вывод: [[2,2,2,2],[2,3,3],[3,5]]\n",
    "```\n",
    "Пример 3:\n",
    "```\n",
    "Ввод: кандидаты = [2], цель = 1\n",
    "Вывод: []\n",
    "```\n",
    "\n"
   ]
  },
  {
   "cell_type": "code",
   "execution_count": 12,
   "metadata": {
    "id": "24F-GOZ5tnsg"
   },
   "outputs": [
    {
     "name": "stdout",
     "output_type": "stream",
     "text": [
      "[[2, 2, 3], [7]]\n"
     ]
    }
   ],
   "source": [
    "def candidates(arr, ind, n, sol, res):\n",
    "    if n == 0:\n",
    "        if sol not in res:\n",
    "            return res.append(sol)\n",
    "    for i in range(ind, len(arr)):\n",
    "        if arr[i] <= n:\n",
    "            fun(arr, i, n-arr[i], sol+[arr[i]], res)\n",
    "        else:\n",
    "            return res\n",
    "\n",
    "sol = []\n",
    "res = []        \n",
    "arr = [2,3,6,7]\n",
    "ind = 7\n",
    "candidates(arr,0,ind, sol, res)\n",
    "print(res)"
   ]
  },
  {
   "cell_type": "markdown",
   "metadata": {
    "id": "9Wb9heKZtxCu"
   },
   "source": [
    "### Задача 3. Спиральная матрица\n",
    "\n",
    "На вход подается двумерный неотсортированный список состоящий из целых чисел. Вам необходимо отсортировать список в порядке возрастания и отобразить его элементы по спирали.\n",
    "\n",
    "Пример 1:\n",
    "\n",
    "\n",
    "![spiral1.jpeg](data:image/jpeg;base64,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)\n",
    "```\n",
    "Ввод: матрица = [[1,2,3],[4,5,6],[7,8,9]]\n",
    "\n",
    "Вывод: [1,2,3,6,9,8,7,4,5]\n",
    "```\n",
    "\n",
    "Пример 2:\n",
    "\n",
    "![spiral.jpeg](data:image/jpeg;base64,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)\n",
    "```\n",
    "Ввод: матрица = [[1,2,3,4],[5,6,7,8],[9,10,11,12]]\n",
    "Вывод: [1,2,3,4,8,12, 11,10,9,5,6,7]\n",
    "```"
   ]
  },
  {
   "cell_type": "code",
   "execution_count": 7,
   "metadata": {
    "id": "BVa6gHXOwUDu"
   },
   "outputs": [
    {
     "name": "stdout",
     "output_type": "stream",
     "text": [
      "[1, 2, 3, 6, 9, 8, 7, 4, 5]\n"
     ]
    }
   ],
   "source": [
    "def spiral_matrix(arr):\n",
    "    result = []\n",
    "    cols = len(arr[0])-1\n",
    "    rows = len(arr)-1\n",
    "    cols_start = 0\n",
    "    rows_start = 0\n",
    "    while cols_start <= cols and rows_start <= rows:\n",
    "        for i in range(cols_start, cols+1):\n",
    "            result.append(arr[cols_start][i])\n",
    "        rows_start +=1\n",
    "        for i in range(rows_start, rows+1):\n",
    "            result.append(arr[i][cols])\n",
    "        cols-=1\n",
    "        \n",
    "        if rows_start <= rows:\n",
    "            for i in range(cols, cols_start-1 ,-1):\n",
    "                result.append(arr[rows][i])\n",
    "            rows -=1\n",
    "        if cols_start <= cols:\n",
    "            for i in range(rows, rows_start-1, -1):\n",
    "                result.append(arr[i][cols_start])\n",
    "            cols_start+=1\n",
    "    return result\n",
    "\n",
    "arr = [[1,2,3],[4,5,6],[7,8,9]]\n",
    "print(spiral_matrix(arr))\n",
    "        "
   ]
  },
  {
   "cell_type": "code",
   "execution_count": null,
   "metadata": {},
   "outputs": [],
   "source": []
  }
 ],
 "metadata": {
  "colab": {
   "name": "Task4.ipynb",
   "provenance": []
  },
  "kernelspec": {
   "display_name": "Python 3",
   "language": "python",
   "name": "python3"
  },
  "language_info": {
   "codemirror_mode": {
    "name": "ipython",
    "version": 3
   },
   "file_extension": ".py",
   "mimetype": "text/x-python",
   "name": "python",
   "nbconvert_exporter": "python",
   "pygments_lexer": "ipython3",
   "version": "3.8.3"
  }
 },
 "nbformat": 4,
 "nbformat_minor": 1
}
