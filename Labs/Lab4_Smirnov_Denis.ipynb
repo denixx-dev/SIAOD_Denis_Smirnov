{
 "cells": [
  {
   "cell_type": "markdown",
   "id": "fifteen-sailing",
   "metadata": {},
   "source": [
    "# Лабораторная работа №4\n",
    "## Выполнил студент группы ФИО ГРУППА"
   ]
  },
  {
   "cell_type": "markdown",
   "id": "arctic-stocks",
   "metadata": {},
   "source": [
    "Реализовать следующие структуры данных:\n",
    "  \n",
    "● <b> Стек (stack): </b>  \n",
    "Операции для стека: \n",
    "<i> инициализация, проверка на пустоту, добавление нового элемента в начало, извлечение элемента из начала;  </i>  \n",
    "  \n",
    "● <b> Дек (двусторонняя очередь, deque):  </b>  \n",
    "Операции для дека: \n",
    "<i> инициализация, проверка на пустоту, добавление нового элемента в начало, добавление нового элемента в конец, извлечение элемента из начала, извлечение элемента из конца. </i>  \n",
    "  \n",
    "<i> Разработать программу обработки данных, содержащихся в заранее подготовленном txt-файле, в соответствии с заданиями, применив указанную в задании структуру данных. Результат работы программы вывести на экран и сохранить в отдельном txt-файле. </i>"
   ]
  },
  {
   "cell_type": "markdown",
   "id": "6c1fd231",
   "metadata": {},
   "source": [
    "## Стек"
   ]
  },
  {
   "cell_type": "code",
   "execution_count": 4,
   "id": "a3559737",
   "metadata": {},
   "outputs": [],
   "source": [
    "class Stack():\n",
    "    items = []\n",
    "    def __init__(self, items):\n",
    "        self.items = items\n",
    "    def isEmpty(self):\n",
    "        return self.items == []\n",
    "    def add(self, item):\n",
    "        self.items.append(item)\n",
    "    def pop(self):\n",
    "        return self.items.pop() if not self.isEmpty() else -1\n",
    "    def copyItems(self):\n",
    "        return self.items"
   ]
  },
  {
   "cell_type": "markdown",
   "id": "0aac96cd",
   "metadata": {},
   "source": [
    "## Дек"
   ]
  },
  {
   "cell_type": "code",
   "execution_count": 2,
   "id": "ff753d17",
   "metadata": {},
   "outputs": [],
   "source": [
    "class Deque():\n",
    "    def __init__(self, items):\n",
    "        self.Deque = items\n",
    "    def isEmpty(self):\n",
    "        return self.Deque == []\n",
    "    def frontAdd(self, item):\n",
    "        self.Deque.append(item)\n",
    "    def rearAdd(self, item):\n",
    "        self.Deque.insert(0, item)\n",
    "    def frontPop(self):\n",
    "        return self.Deque.pop()\n",
    "    def rearPop(self):\n",
    "        return self.Deque.pop(0)\n",
    "    def size(self):\n",
    "        return len(self.Deque)\n",
    "    def printItems(self):\n",
    "        for i in self.Deque:\n",
    "            print(i)\n",
    "    def doesExist(self, item):\n",
    "        return item in self.Deque\n",
    "#     def __str__(self):\n",
    "#         result = \"\"\n",
    "#         for el in self.Deque:\n",
    "#             result += str(el) + \" \"\n",
    "#         return \"[\" + result[:-1] + \"]\""
   ]
  },
  {
   "cell_type": "markdown",
   "id": "5d7edb08",
   "metadata": {
    "scrolled": true
   },
   "source": [
    "### Задание №1\n",
    "Отсортировать строки файла, содержащие названия книг, в алфавитном порядке с использованием двух деков."
   ]
  },
  {
   "cell_type": "code",
   "execution_count": 5,
   "id": "17702ade",
   "metadata": {
    "scrolled": true
   },
   "outputs": [],
   "source": [
    "def procces(data):\n",
    "    deq1 = Deque([])\n",
    "    deq2 = Deque([])\n",
    "    if len(data) == 0:\n",
    "        return []\n",
    "    deq1.rearAdd(data[0])\n",
    "    for i in range(1, len(data)):\n",
    "        temp1 = deq1.rearPop()\n",
    "        if data[i] <= temp1:\n",
    "            deq1.rearAdd(temp1)\n",
    "            deq1.rearAdd(data[i])\n",
    "            continue\n",
    "        deq1.rearAdd(temp1)\n",
    "        temp2 = deq1.frontPop()\n",
    "        if data[i] >= temp2:\n",
    "            deq1.frontAdd(temp2)\n",
    "            deq1.frontAdd(data[i])\n",
    "            continue\n",
    "        deq1.frontAdd(temp2)\n",
    "        temp = deq1.rearPop()\n",
    "        while data[i] >= temp:\n",
    "            deq2.frontAdd(temp)\n",
    "            temp = deq1.rearPop()\n",
    "        deq1.rearAdd(temp)\n",
    "        deq1.rearAdd(data[i])\n",
    "        while deq2.isEmpty() is False:\n",
    "            deq1.rearAdd(deq2.frontPop())\n",
    "    return deq1.Deque\n",
    "\n",
    "f=open('TEXT1.txt', \"r+\")\n",
    "\n",
    "data = []\n",
    "for i in f.readlines():\n",
    "    data.append(i)\n",
    "data[-1] += \"\\n\"\n",
    "sorted_lines = procces(data)\n",
    "f.close()\n",
    "\n",
    "with open(\"OUT1.txt\", \"w\") as f:\n",
    "    f.writelines(sorted_lines)\n",
    "\n"
   ]
  },
  {
   "cell_type": "markdown",
   "id": "49fbd2a0",
   "metadata": {},
   "source": [
    "### Задание №2\n",
    "Дек содержит последовательность символов для шифровки сообщений. Дан текстовый файл, содержащий зашифрованное сообщение. Пользуясь деком, расшифровать текст. \n",
    "Известно, что при шифровке каждый символ сообщения заменялся следующим за ним в деке по часовой стрелке через один."
   ]
  },
  {
   "cell_type": "code",
   "execution_count": 14,
   "id": "81cab7a8",
   "metadata": {},
   "outputs": [
    {
     "name": "stdout",
     "output_type": "stream",
     "text": [
      "obrwnxzoz\n"
     ]
    }
   ],
   "source": [
    "d = Deque(['r', 'w', 'n', 'x', 'z', 'o', 'b'])\n",
    "\n",
    "with open(\"TEXT2.txt\", \"r\") as f:\n",
    "    line = f.readline()\n",
    "    res = \"\"\n",
    "    for i in line:\n",
    "        buff_str = \"\"\n",
    "        buffer_el = d.rearPop()\n",
    "        # Проверяем, пока символ зашифрованной строки не будет равен символу из дека\n",
    "        while i != buffer_el:\n",
    "            buff_str += buffer_el\n",
    "            buffer_el = d.rearPop()\n",
    "        # Проверка на то, произошло ли совпадение с первым элементом дека\n",
    "        if len(buff_str) == 0:\n",
    "            d.rearAdd(buffer_el)\n",
    "            buffer_el2 = d.frontPop()\n",
    "            buffer_el = d.frontPop()\n",
    "            res += buffer_el\n",
    "            d.frontAdd(buffer_el)\n",
    "            d.frontAdd(buffer_el2)\n",
    "        # Проверка на то, произошло ли совпадение со вторым элементом дека\n",
    "        elif len(buff_str) == 1:\n",
    "            d.rearAdd(buffer_el)\n",
    "            d.rearAdd(buff_str[0])\n",
    "            buffer_el = d.frontPop()\n",
    "            res += buffer_el\n",
    "            d.frontAdd(buffer_el)\n",
    "        else:\n",
    "            d.rearAdd(buffer_el)\n",
    "            buff_el = buff_str[len(buff_str)-2]\n",
    "            res += buff_el\n",
    "            for j in reversed(buff_str):\n",
    "                d.rearAdd(j)\n",
    "print(res)\n",
    "\n",
    "with open(\"out2.txt\", \"w\") as f:\n",
    "    f.write(res)"
   ]
  },
  {
   "cell_type": "markdown",
   "id": "c0894f47",
   "metadata": {},
   "source": [
    "### Задание №3\n",
    "Даны три стержня и n дисков различного размера. Диски можно надевать на стержни, образуя из них башни. Перенести n дисков со стержня А на стержень С, сохранив их первоначальный порядок. При переносе дисков необходимо соблюдать следующие правила:\n",
    "- на каждом шаге со стержня на стержень переносить только один диск;\n",
    "- диск нельзя помещать на диск меньшего размера;\n",
    "- для промежуточного хранения можно использовать стержень В.\n",
    "Реализовать алгоритм, используя три стека вместо стержней А, В, С. Информация о дисках хранится в исходном файле."
   ]
  },
  {
   "cell_type": "code",
   "execution_count": null,
   "id": "9e91a9d4",
   "metadata": {},
   "outputs": [],
   "source": []
  },
  {
   "cell_type": "markdown",
   "id": "e5b0be17",
   "metadata": {},
   "source": [
    "### Задание №4\n",
    "Дан текстовый файл с программой на алгоритмическом языке. За один просмотр файла проверить баланс круглых скобок в тексте, используя стек."
   ]
  },
  {
   "cell_type": "code",
   "execution_count": 20,
   "id": "5b1df60a",
   "metadata": {},
   "outputs": [
    {
     "data": {
      "text/plain": [
       "False"
      ]
     },
     "execution_count": 20,
     "metadata": {},
     "output_type": "execute_result"
    }
   ],
   "source": [
    "st = Stack([])\n",
    "# flag = True\n",
    "with open(\"TEXT4.txt\", \"r\") as f:\n",
    "    for line in f.readlines():\n",
    "        for sym in line:\n",
    "            if sym == \"(\":\n",
    "                st.add(sym)\n",
    "            elif sym == \")\":\n",
    "                if st.isEmpty():\n",
    "#                     flag = False\n",
    "                    break\n",
    "                else:\n",
    "                    st.pop()\n",
    "print(True) if st.isEmpty() else False"
   ]
  },
  {
   "cell_type": "markdown",
   "id": "c44cdd6b",
   "metadata": {},
   "source": [
    "### Задание №5\n",
    "Дан текстовый файл с программой на алгоритмическом языке. За один просмотр файла проверить баланс квадратных скобок в тексте, используя дек."
   ]
  },
  {
   "cell_type": "code",
   "execution_count": 57,
   "id": "36b8f400",
   "metadata": {},
   "outputs": [
    {
     "name": "stdout",
     "output_type": "stream",
     "text": [
      "True\n"
     ]
    }
   ],
   "source": [
    "st = Stack([])\n",
    "flag = True\n",
    "with open(\"TEXT4.txt\", \"r\") as f:\n",
    "    for line in f.readlines():\n",
    "        for sym in line:\n",
    "            if sym == \"[\":\n",
    "                st.add(sym)\n",
    "            elif sym == \"]\":\n",
    "                if st.isEmpty():\n",
    "                    flag = False\n",
    "                    break\n",
    "                else:\n",
    "                    st.pop()\n",
    "print(True) if st.isEmpty() else False"
   ]
  },
  {
   "cell_type": "markdown",
   "id": "59d13dc7",
   "metadata": {},
   "source": [
    "### Задание №6\n",
    "Дан файл из символов. Используя стек, за один просмотр файла напечатать сначала все цифры, затем все буквы, и, наконец, все остальные символы, сохраняя исходный порядок в каждой группе символов."
   ]
  },
  {
   "cell_type": "code",
   "execution_count": 58,
   "id": "297e36c2",
   "metadata": {},
   "outputs": [
    {
     "name": "stdout",
     "output_type": "stream",
     "text": [
      "43576348788387283465купапорешкнргаЕатнк?;*;:%\"№\")(№:  :№?\"*(№\n"
     ]
    }
   ],
   "source": [
    "with open(\"TEXT6.txt\", \"r\") as f:\n",
    "    nums = Stack([])\n",
    "    syms = Stack([])\n",
    "    others = Stack([])\n",
    "    for line in f.readlines():\n",
    "        for symb in line:\n",
    "            if symb.isdigit():\n",
    "                nums.add(symb)\n",
    "            elif symb.isalpha():\n",
    "                syms.add(symb)\n",
    "            else:\n",
    "                others.add(symb)\n",
    "nums_res = \"\"\n",
    "syms_res = \"\"\n",
    "others_res = \"\"\n",
    "while not nums.isEmpty():\n",
    "    nums_res += nums.pop()\n",
    "while not syms.isEmpty():\n",
    "    syms_res += syms.pop()\n",
    "while not others.isEmpty():\n",
    "    others_res += others.pop()\n",
    "\n",
    "res= nums_res[::-1]+syms_res[::-1]+others_res[::-1]\n",
    "print(res)\n",
    "\n",
    "with open(\"out6.txt\", \"w\") as f:\n",
    "    f.write(res)"
   ]
  },
  {
   "cell_type": "markdown",
   "id": "973f68bd",
   "metadata": {},
   "source": [
    "### Задание №7\n",
    "Дан файл из целых чисел. Используя дек, за один просмотр файла напечатать сначала все отрицательные числа, затем все положительные числа, сохраняя исходный порядок в каждой группе."
   ]
  },
  {
   "cell_type": "code",
   "execution_count": 59,
   "id": "c56fad66",
   "metadata": {},
   "outputs": [
    {
     "name": "stdout",
     "output_type": "stream",
     "text": [
      "-748 -54 -21 -87 56 221 847 54 0 54654 0 4546 \n"
     ]
    }
   ],
   "source": [
    "with open(\"TEXT7.txt\", \"r\") as f:\n",
    "    arr = f.readline().split(\" \")\n",
    "    d = Deque([])\n",
    "    for i in arr:\n",
    "        if int(i)<0:\n",
    "            d.rearAdd(int(i))\n",
    "        else:\n",
    "            d.frontAdd(int(i))\n",
    "        \n",
    "res = \"\"\n",
    "while not d.isEmpty():\n",
    "    res += str(d.rearPop()) + \" \"\n",
    "print(res)\n",
    "\n",
    "with open(\"out7.txt\", \"w\") as f:\n",
    "    f.write(res)"
   ]
  },
  {
   "cell_type": "markdown",
   "id": "b9228191",
   "metadata": {},
   "source": [
    "### Задание №8\n",
    "Дан текстовый файл. Используя стек, сформировать новый текстовый файл, содержащий строки исходного файла, записанные в обратном порядке: первая строка становится последней, вторая – предпоследней и т.д."
   ]
  },
  {
   "cell_type": "code",
   "execution_count": 54,
   "id": "981fbdfe",
   "metadata": {},
   "outputs": [
    {
     "name": "stdout",
     "output_type": "stream",
     "text": [
      "Я встал утром\n",
      "\n",
      "потом пошел умыться\n",
      "\n",
      "потом покушал\n",
      "\n",
      "потом опять лег спать\n",
      "\n",
      "конец\n",
      "\n"
     ]
    }
   ],
   "source": [
    "with open(\"TEXT8.txt\", \"r\") as f:\n",
    "    st = Stack([])\n",
    "    for i in f.readlines():\n",
    "        st.add(i)\n",
    "    if st.isEmpty() is False:\n",
    "        buffer = st.pop()\n",
    "        buffer += \"\\n\"\n",
    "        st.add(buffer)\n",
    "res = \"\"\n",
    "arr = st.copyItems()\n",
    "for i in arr:\n",
    "    print(i)\n",
    "    \n",
    "with open(\"out8.txt\", \"w\") as f:\n",
    "    for i in reversed(arr):\n",
    "        f.write(i)"
   ]
  },
  {
   "cell_type": "markdown",
   "id": "rental-jerusalem",
   "metadata": {},
   "source": [
    "### Вывод\n"
   ]
  },
  {
   "cell_type": "markdown",
   "id": "0c2b8899",
   "metadata": {},
   "source": []
  }
 ],
 "metadata": {
  "kernelspec": {
   "display_name": "Python 3",
   "language": "python",
   "name": "python3"
  },
  "language_info": {
   "codemirror_mode": {
    "name": "ipython",
    "version": 3
   },
   "file_extension": ".py",
   "mimetype": "text/x-python",
   "name": "python",
   "nbconvert_exporter": "python",
   "pygments_lexer": "ipython3",
   "version": "3.8.3"
  }
 },
 "nbformat": 4,
 "nbformat_minor": 5
}
