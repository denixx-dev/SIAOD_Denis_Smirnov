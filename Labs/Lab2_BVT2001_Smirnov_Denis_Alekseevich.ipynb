{
 "cells": [
  {
   "cell_type": "markdown",
   "id": "a3f10f31",
   "metadata": {},
   "source": [
    "# Лабораторная работа №2\n",
    "## Выполнил студент группы БВТ2001 Смирнов Денис Алексеевич\n",
    "### Задание №1\n",
    "Реализовать методы поиска в соответствии с заданием. Организовать генерацию начального набора случайных данных. Для всех вариантов добавить реализацию добавления, поиска и удаления элементов. Оценить время работы каждого алгоритма поиска и сравнить его со временем работы стандартной функции поиска, используемой в выбранном языке программирования."
   ]
  },
  {
   "cell_type": "markdown",
   "id": "7e97e68b",
   "metadata": {},
   "source": [
    "### Генерация и сортировка набора случайных данных"
   ]
  },
  {
   "cell_type": "code",
   "execution_count": 2,
   "id": "278aafec",
   "metadata": {},
   "outputs": [
    {
     "name": "stdout",
     "output_type": "stream",
     "text": [
      "[-99, -60, -27, -26, 4, 30, 38, 51, 73, 91]\n"
     ]
    }
   ],
   "source": [
    "from random import randint\n",
    "l = sorted([randint(-100, 100) for i in range(10)])\n",
    "#sorted_l = sorted(l)\n",
    "print(l)\n",
    "#user_num = int(input(\"Введите число для поиска: \"))"
   ]
  },
  {
   "cell_type": "markdown",
   "id": "8d5ebbd5",
   "metadata": {},
   "source": [
    "### Бинарный поиск"
   ]
  },
  {
   "cell_type": "code",
   "execution_count": 5,
   "id": "2913868e",
   "metadata": {},
   "outputs": [
    {
     "name": "stdout",
     "output_type": "stream",
     "text": [
      "5\n"
     ]
    }
   ],
   "source": [
    "def binary_search(l, user_num):\n",
    "    lower = 0\n",
    "    higher = len(l)\n",
    "    if user_num in l:\n",
    "        while True:\n",
    "            mid = lower + (higher-lower)//2\n",
    "            if l[mid] == user_num:\n",
    "                return mid\n",
    "            elif l[mid] > user_num:\n",
    "                higher = mid\n",
    "            elif l[mid] < user_num:\n",
    "                lower = mid +1\n",
    "    else:\n",
    "        return -1\n",
    "\n",
    "print(l)\n",
    "print(binary_search(l, int(input(\"Введите число для поиска: \"))))"
   ]
  },
  {
   "cell_type": "markdown",
   "id": "5f6d6f1d",
   "metadata": {},
   "source": [
    "### Бинарное дерево"
   ]
  },
  {
   "cell_type": "code",
   "execution_count": 6,
   "id": "c2b9ab2c",
   "metadata": {},
   "outputs": [
    {
     "name": "stdout",
     "output_type": "stream",
     "text": [
      "\n",
      "[3, -73, 63, 86, 89, 24, 37, -86, 74, -86]\n",
      "Введите искомое число: -86\n",
      "-86 is found\n"
     ]
    }
   ],
   "source": [
    "class Node:\n",
    "    def __init__(self, value):\n",
    "        self.value = value\n",
    "        self.left = None\n",
    "        self.right = None\n",
    "    def insert(self, value):\n",
    "        if self.value: \n",
    "            if value < self.value:\n",
    "                if self.left is None:\n",
    "                    self.left = Node(value)\n",
    "                else:\n",
    "                    self.left.insert(value)\n",
    "            elif value > self.value:\n",
    "                if self.right is None:\n",
    "                    self.right = Node(value)\n",
    "                else:\n",
    "                    self.right.insert(value)\n",
    "        else:\n",
    "            self.value = value\n",
    "    #Сравниваем значения с узлами\n",
    "    def findval(self, val):\n",
    "        if val < self.value:\n",
    "            if self.left is None:\n",
    "                return str(val)+\" not found\"\n",
    "            return self.left.findval(val)\n",
    "        elif val > self.value:\n",
    "            if self.right is None:\n",
    "                return str(val) + \" not found\"\n",
    "            return self.right.findval(val)\n",
    "        else:\n",
    "            return str(self.value) + \" is found\"\n",
    "        \n",
    "l = []\n",
    "# l.append(randint(-100, 100))\n",
    "root = Node(15)\n",
    "\n",
    "for i in range(10):\n",
    "    l.append(randint(-100, 100))\n",
    "    root.insert(l[i])\n",
    "\n",
    "print()\n",
    "print(l)\n",
    "print(root.findval(int(input(\"Введите искомое число: \"))))\n",
    "            \n",
    "\n",
    "            "
   ]
  },
  {
   "cell_type": "markdown",
   "id": "3a141701",
   "metadata": {},
   "source": [
    "### Фибоначчиев поиск"
   ]
  },
  {
   "cell_type": "code",
   "execution_count": 29,
   "id": "97bf58bd",
   "metadata": {},
   "outputs": [
    {
     "name": "stdout",
     "output_type": "stream",
     "text": [
      "[3, -73, 63, 86, 89, 24, 37, -86, 74, -86]\n",
      "Введите число для поиска: 89\n",
      "4\n"
     ]
    }
   ],
   "source": [
    "def fibonacci_search(l, user_num):\n",
    "    fibM_minus_2 = 0\n",
    "    fibM_minus_1 = 1\n",
    "    fibM = fibM_minus_1 + fibM_minus_2\n",
    "    while (fibM < len(l)):\n",
    "        fibM_minus_2 = fibM_minus_1\n",
    "        fibM_minus_1 = fibM\n",
    "        fibM = fibM_minus_1 + fibM_minus_2\n",
    "    index = -1\n",
    "    while (fibM > 1):\n",
    "        i = min(index + fibM_minus_2, (len(l)-1))\n",
    "        if (l[i] < user_num):\n",
    "            fibM = fibM_minus_1\n",
    "            fibM_minus_1 = fibM_minus_2\n",
    "            fibM_minus_2 = fibM - fibM_minus_1\n",
    "            index = i\n",
    "        elif (l[i] > user_num):\n",
    "            fibM = fibM_minus_2\n",
    "            fibM_minus_1 = fibM_minus_1 - fibM_minus_2\n",
    "            fibM_minus_2 = fibM - fibM_minus_1\n",
    "        else :\n",
    "            return i\n",
    "    if(fibM_minus_1 and index < (len(l)-1) and l[index+1] == user_num):\n",
    "        return index+1\n",
    "    return -1\n",
    "print(l)\n",
    "print(fibonacci_search(l, int(input(\"Введите число для поиска: \"))))"
   ]
  },
  {
   "cell_type": "markdown",
   "id": "938e30ae",
   "metadata": {},
   "source": [
    "### Интерполяционный поиск"
   ]
  },
  {
   "cell_type": "code",
   "execution_count": 6,
   "id": "cbda3599",
   "metadata": {},
   "outputs": [
    {
     "name": "stdout",
     "output_type": "stream",
     "text": [
      "[-99, -60, -27, -26, 4, 30, 38, 51, 73, 91]\n",
      "Введите искомое число: 30\n",
      "5\n"
     ]
    }
   ],
   "source": [
    "def interpolationSearch(l, val):\n",
    "    low = 0\n",
    "    high = len(l) - 1\n",
    "    while l[low] != l[high] and val in range(l[low], l[high]+1):\n",
    "        index = low + ((val - l[low]) * (high - low)) // (l[high]-l[low])\n",
    "        cur = l[index]\n",
    "        if cur == val:\n",
    "            return index\n",
    "        elif cur < val:\n",
    "            low = index+1\n",
    "        else:\n",
    "            high = index - 1\n",
    "    return low if val==l[low] else -1\n",
    "\n",
    "print(l)\n",
    "print(interpolationSearch(l, int(input(\"Введите искомое число: \"))))"
   ]
  },
  {
   "cell_type": "markdown",
   "id": "02213ecf",
   "metadata": {},
   "source": [
    "### Задание №2\n",
    "### Простое рехэширование "
   ]
  },
  {
   "cell_type": "code",
   "execution_count": 41,
   "id": "39022eed",
   "metadata": {},
   "outputs": [
    {
     "name": "stdout",
     "output_type": "stream",
     "text": [
      "4 A\n",
      "5 B\n",
      "2 C\n",
      "6 D\n",
      "7 E\n",
      "8 F\n",
      "1 G\n",
      "\n"
     ]
    }
   ],
   "source": [
    "class HashTable:\n",
    "    keys = []\n",
    "    hashes = []\n",
    "    \n",
    "    def __init__(self, arr):\n",
    "        self.appendArray(arr)\n",
    "        \n",
    "    def appendKey(self, item, length):\n",
    "        if (length == None):\n",
    "            length = len(self.keys)\n",
    "            \n",
    "        self.checkKeyExists(item)\n",
    "        temp = hash(item)%length\n",
    "        \n",
    "        if self.checkCollisions(temp):\n",
    "            temp = self.simpleRehash(item, length)\n",
    "            \n",
    "        self.hashes.append(temp)\n",
    "        self.keys.append(item)\n",
    "        \n",
    "    def printHashes(self):\n",
    "        for i in range(len(self.keys)):\n",
    "            print(self.hashes[i], self.keys[i])\n",
    "        print()\n",
    "        \n",
    "    def appendArray(self, arr):\n",
    "        for item in arr:\n",
    "            self.appendKey(item, len(arr))\n",
    "            \n",
    "    def simpleRehash(self, key, length):\n",
    "        i = 1\n",
    "        while True:\n",
    "            temp = hash(key) % length +i\n",
    "            if not self.checkCollisions(temp):\n",
    "                return temp\n",
    "            i += 1\n",
    "    \n",
    "    def checkCollisions(self, hashValue):\n",
    "        return hashValue in self.hashes\n",
    "\n",
    "    def checkKeyExists(self, key):\n",
    "        if key in self.keys:\n",
    "            raise Exception(\"Ключ '{}' уже существует\".format(key))\n",
    "    \n",
    "keys = ['A', 'B', 'C', 'D', 'E', 'F', 'G']\n",
    "hashes = HashTable(keys)\n",
    "\n",
    "try:\n",
    "    hashes.printHashes()\n",
    "except Exception as exc:\n",
    "    print(exc.args)"
   ]
  },
  {
   "cell_type": "markdown",
   "id": "d2661a50",
   "metadata": {},
   "source": [
    "### Рехэширование с помощью псевдослучайных чисел"
   ]
  },
  {
   "cell_type": "code",
   "execution_count": 46,
   "id": "4249fc10",
   "metadata": {},
   "outputs": [
    {
     "name": "stdout",
     "output_type": "stream",
     "text": [
      "4 A\n",
      "10 B\n",
      "2 C\n",
      "6 D\n",
      "5 E\n",
      "13 F\n",
      "1 G\n",
      "\n"
     ]
    }
   ],
   "source": [
    "import random\n",
    "\n",
    "class HashTable:\n",
    "    keys = []\n",
    "    hashes = []\n",
    "    \n",
    "    def __init__(self, arr):\n",
    "        self.appendArray(arr)\n",
    "        \n",
    "    def appendKey(self, item, length):\n",
    "        if (length == None):\n",
    "            length = len(self.keys)\n",
    "            \n",
    "        self.checkKeyExists(item)\n",
    "        temp = hash(item)%length\n",
    "        \n",
    "        if self.checkCollisions(temp):\n",
    "            temp = self.pseudoRandomRehash(item, length)\n",
    "            \n",
    "        self.hashes.append(temp)\n",
    "        self.keys.append(item)\n",
    "        \n",
    "    def printHashes(self):\n",
    "        for i in range(len(self.keys)):\n",
    "            print(self.hashes[i], self.keys[i])\n",
    "        print()\n",
    "        \n",
    "    def appendArray(self, arr):\n",
    "        for item in arr:\n",
    "            self.appendKey(item, len(arr))\n",
    "            \n",
    "    def pseudoRandomRehash(self, key, length):\n",
    "        possibleValues = [i for i in range(length * 2)]\n",
    "        random.shuffle(possibleValues)\n",
    "        while True:\n",
    "            i = possibleValues.pop()\n",
    "            temp = hash(key) % length + i\n",
    "            if not self.checkCollisions(temp):\n",
    "                return temp\n",
    "    \n",
    "    def checkCollisions(self, hashValue):\n",
    "        return hashValue in self.hashes\n",
    "\n",
    "    def checkKeyExists(self, key):\n",
    "        if key in self.keys:\n",
    "            raise Exception(\"Ключ '{}' уже существует\".format(key))\n",
    "    \n",
    "keys = ['A', 'B', 'C', 'D', 'E', 'F', 'G']\n",
    "hashes = HashTable(keys)\n",
    "\n",
    "try:\n",
    "    hashes.printHashes()\n",
    "except Exception as exc:\n",
    "    print(exc.args)"
   ]
  },
  {
   "cell_type": "markdown",
   "id": "8e555d05",
   "metadata": {},
   "source": [
    "### Метод цепочек"
   ]
  },
  {
   "cell_type": "code",
   "execution_count": 54,
   "id": "974869c2",
   "metadata": {},
   "outputs": [
    {
     "name": "stdout",
     "output_type": "stream",
     "text": [
      "index => [key, value, pervious]:\n",
      "0 => ['a', 1]\n",
      "1 => ['b', 2]\n",
      "2 => ['c', 3]\n",
      "3 => ['d', 4, 2]\n",
      "\n",
      "hash => index:\n",
      "4 => 0\n",
      "3 => 1\n",
      "9 => 3\n"
     ]
    }
   ],
   "source": [
    "class ChainsMethod:\n",
    "    hashes = {}\n",
    "    values = {}\n",
    "    pointer = 0\n",
    "    N = 10\n",
    "    \n",
    "    def __init__(self, arr:dict = None):\n",
    "        if arr != None:\n",
    "            self.appendArray(arr)\n",
    "    \n",
    "    def append(self, key, value):\n",
    "        keyHash = hash(key) % self.N\n",
    "        if self.checkCollisions(keyHash):\n",
    "            prevInd = self.hashes[keyHash]\n",
    "            self.values[self.pointer] = [key, value, prevInd]\n",
    "        else:\n",
    "            self.values[self.pointer] = [key, value]\n",
    "            \n",
    "        self.hashes[keyHash] = self.pointer\n",
    "        self.pointer += 1\n",
    "            \n",
    "    def appendArray(self, arr:dict):\n",
    "        for key, value in arr.items():\n",
    "            self.append(key, value)\n",
    "            \n",
    "    def find(self, key):\n",
    "        keyHash = hash(key) % self._N\n",
    "        if not keyHash in self.hashes:\n",
    "            raise Exception('Item not found')\n",
    "        index = self.hashes[keyHash]\n",
    "        return self.recursiveFind(key, index)\n",
    "\n",
    "    def recursiveFind(self, key, index):\n",
    "        if self._values[index][0] == key:\n",
    "            return self.values[index][1]\n",
    "        \n",
    "        if len(self._values[index]) < 3:\n",
    "            raise Exception('Item not found')\n",
    "            \n",
    "        return self.recursiveFind(key, self.values[index][2])\n",
    "            \n",
    "    \n",
    "    def printHashes(self):\n",
    "        print(\"index => [key, value, pervious]:\")\n",
    "        for key, value in self.values.items():\n",
    "            print(\"{} => {}\".format(key,value))\n",
    "            \n",
    "        print(\"\\nhash => index:\")\n",
    "        for key, value in self.hashes.items():\n",
    "            print(\"{} => {}\".format(key,value))\n",
    "        \n",
    "    def checkCollisions(self, keyHash):\n",
    "        return keyHash in self.hashes\n",
    "    \n",
    "keys = {'a':1, 'b':2, 'c':3, 'd':4}\n",
    "chain = ChainsMethod(keys)\n",
    "chain.printHashes()"
   ]
  },
  {
   "cell_type": "markdown",
   "id": "1e117c5e",
   "metadata": {},
   "source": [
    "### Задача про ферзей"
   ]
  },
  {
   "cell_type": "code",
   "execution_count": 56,
   "id": "b8f5ad50",
   "metadata": {},
   "outputs": [
    {
     "name": "stdout",
     "output_type": "stream",
     "text": [
      "3\n",
      "3\n",
      "3\n",
      "3\n",
      "3\n",
      "3\n",
      "3\n",
      "3\n",
      "3\n",
      "3\n"
     ]
    }
   ],
   "source": []
  }
 ],
 "metadata": {
  "kernelspec": {
   "display_name": "Python 3",
   "language": "python",
   "name": "python3"
  },
  "language_info": {
   "codemirror_mode": {
    "name": "ipython",
    "version": 3
   },
   "file_extension": ".py",
   "mimetype": "text/x-python",
   "name": "python",
   "nbconvert_exporter": "python",
   "pygments_lexer": "ipython3",
   "version": "3.8.3"
  }
 },
 "nbformat": 4,
 "nbformat_minor": 5
}
