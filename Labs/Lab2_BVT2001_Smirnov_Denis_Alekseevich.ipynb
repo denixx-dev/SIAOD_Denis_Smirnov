{
 "cells": [
  {
   "cell_type": "markdown",
   "id": "a3f10f31",
   "metadata": {},
   "source": [
    "# Лабораторная работа №2\n",
    "## Выполнил студент группы БВТ2001 Смирнов Денис Алексеевич\n",
    "### Задание №1\n",
    "Реализовать методы поиска в соответствии с заданием. Организовать генерацию начального набора случайных данных. Для всех вариантов добавить реализацию добавления, поиска и удаления элементов. Оценить время работы каждого алгоритма поиска и сравнить его со временем работы стандартной функции поиска, используемой в выбранном языке программирования."
   ]
  },
  {
   "cell_type": "markdown",
   "id": "7e97e68b",
   "metadata": {},
   "source": [
    "### Генерация и сортировка набора случайных данных"
   ]
  },
  {
   "cell_type": "code",
   "execution_count": 4,
   "id": "278aafec",
   "metadata": {},
   "outputs": [
    {
     "name": "stdout",
     "output_type": "stream",
     "text": [
      "[61, 6, 97, 54, 24, -34, -75, -33, -88, -96]\n",
      "Введите число для поиска: -34\n"
     ]
    }
   ],
   "source": [
    "from random import randint\n",
    "l = sorted([randint(-100, 100) for i in range(10)])\n",
    "#sorted_l = sorted(l)\n",
    "print(l)\n",
    "#user_num = int(input(\"Введите число для поиска: \"))"
   ]
  },
  {
   "cell_type": "markdown",
   "id": "8d5ebbd5",
   "metadata": {},
   "source": [
    "### Бинарный поиск"
   ]
  },
  {
   "cell_type": "code",
   "execution_count": 5,
   "id": "2913868e",
   "metadata": {},
   "outputs": [
    {
     "name": "stdout",
     "output_type": "stream",
     "text": [
      "5\n"
     ]
    }
   ],
   "source": [
    "def binary_search(l, user_num):\n",
    "    lower = 0\n",
    "    higher = len(l)\n",
    "    if user_num in l:\n",
    "        while True:\n",
    "            mid = lower + (higher-lower)//2\n",
    "            if l[mid] == user_num:\n",
    "                return mid\n",
    "            elif l[mid] > user_num:\n",
    "                higher = mid\n",
    "            elif l[mid] < user_num:\n",
    "                lower = mid +1\n",
    "    else:\n",
    "        return -1\n",
    "\n",
    "print(l)\n",
    "print(binary_search(l, int(input(\"Введите число для поиска: \"))))"
   ]
  },
  {
   "cell_type": "markdown",
   "id": "5f6d6f1d",
   "metadata": {},
   "source": [
    "### Бинарное дерево"
   ]
  },
  {
   "cell_type": "code",
   "execution_count": 6,
   "id": "c2b9ab2c",
   "metadata": {},
   "outputs": [
    {
     "name": "stdout",
     "output_type": "stream",
     "text": [
      "\n",
      "[3, -73, 63, 86, 89, 24, 37, -86, 74, -86]\n",
      "Введите искомое число: -86\n",
      "-86 is found\n"
     ]
    }
   ],
   "source": [
    "class Node:\n",
    "    def __init__(self, value):\n",
    "        self.value = value\n",
    "        self.left = None\n",
    "        self.right = None\n",
    "    def insert(self, value):\n",
    "        if self.value: \n",
    "            if value < self.value:\n",
    "                if self.left is None:\n",
    "                    self.left = Node(value)\n",
    "                else:\n",
    "                    self.left.insert(value)\n",
    "            elif value > self.value:\n",
    "                if self.right is None:\n",
    "                    self.right = Node(value)\n",
    "                else:\n",
    "                    self.right.insert(value)\n",
    "        else:\n",
    "            self.value = value\n",
    "    #Сравниваем значения с узлами\n",
    "    def findval(self, val):\n",
    "        if val < self.value:\n",
    "            if self.left is None:\n",
    "                return str(val)+\" not found\"\n",
    "            return self.left.findval(val)\n",
    "        elif val > self.value:\n",
    "            if self.right is None:\n",
    "                return str(val) + \" not found\"\n",
    "            return self.right.findval(val)\n",
    "        else:\n",
    "            return str(self.value) + \" is found\"\n",
    "        \n",
    "l = []\n",
    "# l.append(randint(-100, 100))\n",
    "root = Node(15)\n",
    "\n",
    "for i in range(10):\n",
    "    l.append(randint(-100, 100))\n",
    "    root.insert(l[i])\n",
    "\n",
    "print()\n",
    "print(l)\n",
    "print(root.findval(int(input(\"Введите искомое число: \"))))\n",
    "            \n",
    "\n",
    "            "
   ]
  },
  {
   "cell_type": "markdown",
   "id": "3a141701",
   "metadata": {},
   "source": [
    "### Фибоначчиев поиск"
   ]
  },
  {
   "cell_type": "code",
   "execution_count": 29,
   "id": "97bf58bd",
   "metadata": {},
   "outputs": [
    {
     "name": "stdout",
     "output_type": "stream",
     "text": [
      "[3, -73, 63, 86, 89, 24, 37, -86, 74, -86]\n",
      "Введите число для поиска: 89\n",
      "4\n"
     ]
    }
   ],
   "source": [
    "def fibonacci_search(l, user_num):\n",
    "    fibM_minus_2 = 0\n",
    "    fibM_minus_1 = 1\n",
    "    fibM = fibM_minus_1 + fibM_minus_2\n",
    "    while (fibM < len(l)):\n",
    "        fibM_minus_2 = fibM_minus_1\n",
    "        fibM_minus_1 = fibM\n",
    "        fibM = fibM_minus_1 + fibM_minus_2\n",
    "    index = -1\n",
    "    while (fibM > 1):\n",
    "        i = min(index + fibM_minus_2, (len(l)-1))\n",
    "        if (l[i] < user_num):\n",
    "            fibM = fibM_minus_1\n",
    "            fibM_minus_1 = fibM_minus_2\n",
    "            fibM_minus_2 = fibM - fibM_minus_1\n",
    "            index = i\n",
    "        elif (l[i] > user_num):\n",
    "            fibM = fibM_minus_2\n",
    "            fibM_minus_1 = fibM_minus_1 - fibM_minus_2\n",
    "            fibM_minus_2 = fibM - fibM_minus_1\n",
    "        else :\n",
    "            return i\n",
    "    if(fibM_minus_1 and index < (len(l)-1) and l[index+1] == user_num):\n",
    "        return index+1\n",
    "    return -1\n",
    "print(l)\n",
    "print(fibonacci_search(l, int(input(\"Введите число для поиска: \"))))"
   ]
  },
  {
   "cell_type": "markdown",
   "id": "938e30ae",
   "metadata": {},
   "source": [
    "### Интерполяционный поиск"
   ]
  },
  {
   "cell_type": "code",
   "execution_count": 40,
   "id": "cbda3599",
   "metadata": {},
   "outputs": [
    {
     "name": "stdout",
     "output_type": "stream",
     "text": [
      "[3, -73, 63, 86, 89, 24, 37, -86, 74, -86]\n",
      "Введите искомое число: 0\n",
      "-1\n"
     ]
    }
   ],
   "source": [
    "def interpolationSearch(l, val):\n",
    "    low = 0\n",
    "    high = len(l) - 1\n",
    "    while l[low] != l[high] and val in range(l[low], l[high]+1):\n",
    "        index = low + ((val - l[low]) * (high - low)) // (l[high]-l[low])\n",
    "        cur = l[index]\n",
    "        if cur == val:\n",
    "            return index\n",
    "        elif cur < val:\n",
    "            low = index+1\n",
    "        else:\n",
    "            high = index - 1\n",
    "    return low if val==l[low] else -1\n",
    "\n",
    "print(l)\n",
    "print(interpolationSearch(l, int(input(\"Введите искомое число: \"))))"
   ]
  },
  {
   "cell_type": "markdown",
   "id": "02213ecf",
   "metadata": {},
   "source": [
    "### Задание №2\n",
    "### Простое рехэширование "
   ]
  },
  {
   "cell_type": "code",
   "execution_count": null,
   "id": "39022eed",
   "metadata": {},
   "outputs": [],
   "source": []
  },
  {
   "cell_type": "markdown",
   "id": "d2661a50",
   "metadata": {},
   "source": [
    "### Рехэширование с помощью псевдослучайных чисел"
   ]
  },
  {
   "cell_type": "code",
   "execution_count": null,
   "id": "4249fc10",
   "metadata": {},
   "outputs": [],
   "source": []
  }
 ],
 "metadata": {
  "kernelspec": {
   "display_name": "Python 3",
   "language": "python",
   "name": "python3"
  },
  "language_info": {
   "codemirror_mode": {
    "name": "ipython",
    "version": 3
   },
   "file_extension": ".py",
   "mimetype": "text/x-python",
   "name": "python",
   "nbconvert_exporter": "python",
   "pygments_lexer": "ipython3",
   "version": "3.8.3"
  }
 },
 "nbformat": 4,
 "nbformat_minor": 5
}
