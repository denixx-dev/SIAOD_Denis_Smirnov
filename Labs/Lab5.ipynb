{
 "cells": [
  {
   "cell_type": "markdown",
   "metadata": {
    "id": "WPvB9TcMmKA6"
   },
   "source": [
    "# Лабораторная работа №5\n",
    "# Рекурсия. Фракталы."
   ]
  },
  {
   "cell_type": "markdown",
   "metadata": {
    "id": "96Gi_LEvmSVH"
   },
   "source": [
    "## Выполнил студент группы БВТ2001 Смирнов Денис\n",
    "***"
   ]
  },
  {
   "cell_type": "markdown",
   "metadata": {
    "id": "4clYOyb0mbEv"
   },
   "source": [
    "### Задание:\n",
    "Реализовать генерацию заданного типа фрактала с применением рекурсивных функций.\n",
    "\n",
    "\n",
    "Добавить возможность задания глубины фрактала. \n",
    "\n",
    "\n",
    "Оценить глубину рекурсии. \n",
    "\n",
    "\n",
    "Построить таблицу зависимости времени построения от глубины фрактала."
   ]
  },
  {
   "cell_type": "markdown",
   "metadata": {
    "id": "wDXHbUmMmhRL"
   },
   "source": [
    "### Список фракталов:\n",
    "\n",
    "Кривая Коха\n",
    "| Кривая Гильберта\n",
    "| Кривая Серпинского\n",
    "| Салфетка Серпинского\n",
    "| Ковер Серпинского\n",
    "| Дерево Пифагора "
   ]
  },
  {
   "cell_type": "markdown",
   "metadata": {
    "id": "Wggfn8l7nG72"
   },
   "source": [
    "### Выполнение:"
   ]
  },
  {
   "cell_type": "code",
   "execution_count": 1,
   "metadata": {},
   "outputs": [],
   "source": [
    "import turtle as t\n",
    "import time"
   ]
  },
  {
   "cell_type": "markdown",
   "metadata": {
    "id": "681a95mZnOSa"
   },
   "source": [
    "## Кривая Коха"
   ]
  },
  {
   "cell_type": "code",
   "execution_count": 29,
   "metadata": {},
   "outputs": [
    {
     "name": "stdout",
     "output_type": "stream",
     "text": [
      " 1.4999406337738037 \n"
     ]
    }
   ],
   "source": [
    "t.penup()\n",
    "t.bk(500)\n",
    "t.pendown()\n",
    "\n",
    "size = 500\n",
    "n = 4\n",
    "t.speed(1000)\n",
    "\n",
    "def koh(size, n):\n",
    "    if n == 1:\n",
    "        t.forward(size)\n",
    "    else:\n",
    "        koh(size/3, n-1)\n",
    "        t.left(60)\n",
    "        koh(size/3, n-1)\n",
    "        t.right(120)\n",
    "        koh(size/3, n-1)\n",
    "        t.left(60)\n",
    "        koh(size/3, n-1)\n",
    "        \n",
    "t.ht()\n",
    "tic = time.time()\n",
    "koh(size, n)\n",
    "tac = time.time()\n",
    "print(\" %s \" % (tac - tic))\n",
    "t.done()"
   ]
  },
  {
   "cell_type": "markdown",
   "metadata": {},
   "source": [
    "## Кривая Гильберта"
   ]
  },
  {
   "cell_type": "code",
   "execution_count": 14,
   "metadata": {},
   "outputs": [
    {
     "name": "stdout",
     "output_type": "stream",
     "text": [
      "Построение кривой Гильберта заняло 29.186475038528442 секунд\n"
     ]
    }
   ],
   "source": [
    "# t.penup()\n",
    "# t.bk(500)\n",
    "# t.pendown()\n",
    "\n",
    "size = 10\n",
    "n = 5\n",
    "t.speed(1000)\n",
    "\n",
    "def hilbert(n, angle, size):\n",
    "    if n == 0:\n",
    "        return\n",
    "        \n",
    "    t.right(angle)\n",
    "    hilbert(n-1, -angle, size)\n",
    "    \n",
    "    t.fd(size)\n",
    "    t.left(angle)\n",
    "    hilbert(n-1, angle, size)\n",
    "    \n",
    "    t.fd(size)\n",
    "    hilbert(n-1, angle, size)\n",
    "    \n",
    "    t.left(angle)\n",
    "    t.fd(size)\n",
    "    hilbert(n-1, -angle, size)\n",
    "    t.right(angle)\n",
    "\n",
    "tic = time.time()\n",
    "hilbert(n, 90, size)\n",
    "tac = time.time()\n",
    "print(f\"Построение кривой Гильберта заняло {tac - tic} секунд\")\n",
    "t.done()\n"
   ]
  },
  {
   "cell_type": "markdown",
   "metadata": {},
   "source": [
    "## Кривая Серпинского"
   ]
  },
  {
   "cell_type": "code",
   "execution_count": 15,
   "metadata": {},
   "outputs": [
    {
     "name": "stdout",
     "output_type": "stream",
     "text": [
      "Построение кривой Серпинского заняло 0.27846598625183105 секунд\n"
     ]
    }
   ],
   "source": [
    "import math\n",
    "size = 10\n",
    "n = 1\n",
    "t.speed(1000)\n",
    "\n",
    "def serp(size, n):\n",
    "    if n == 0:\n",
    "        return\n",
    "    serp(size, n-1)\n",
    "    t.left(45)\n",
    "    t.fd(size*(math.sqrt(2)))\n",
    "    t.left(45)\n",
    "    serp(size, n-1)\n",
    "    t.right(90)\n",
    "    t.fd(size)\n",
    "    t.right(90)\n",
    "    serp(size, n-1)\n",
    "    t.left(45)\n",
    "    t.fd(size*(math.sqrt(2)))\n",
    "    t.left(45)\n",
    "    serp(size, n-1)\n",
    "    \n",
    "def serp_full(size, n):\n",
    "    serp(size, n)\n",
    "    t.right(90)\n",
    "    t.fd(size)\n",
    "    t.right(90)\n",
    "    serp(size, n)\n",
    "    t.right(90)\n",
    "    t.fd(size)\n",
    "    t.right(90)\n",
    "    \n",
    "tic = time.time()\n",
    "serp_full(size, n)\n",
    "tac = time.time()\n",
    "print(f\"Построение кривой Серпинского заняло {tac - tic} секунд\")\n",
    "# serp(size, n)\n",
    "t.done()"
   ]
  },
  {
   "cell_type": "markdown",
   "metadata": {},
   "source": [
    "## Салфетка Серпинского"
   ]
  },
  {
   "cell_type": "code",
   "execution_count": 21,
   "metadata": {},
   "outputs": [],
   "source": [
    "def serp_wipe(size, n):\n",
    "    if n == 0:\n",
    "        t.stamp()\n",
    "#         return\n",
    "    else:\n",
    "        for i in range(0, 3):\n",
    "            t.fd(size)\n",
    "            serp_wipe(size/2, n-1)\n",
    "            t.bk(size)\n",
    "            t.left(120)\n",
    "            \n",
    "t.right(30)\n",
    "t.penup()\n",
    "t.speed(1000)\n",
    "t.ht()\n",
    "\n",
    "size = 50\n",
    "n=3\n",
    "serp_wipe(size, n)\n",
    "t.done()"
   ]
  },
  {
   "cell_type": "markdown",
   "metadata": {
    "id": "diOb-K7LnO5a"
   },
   "source": [
    "### Вывод"
   ]
  },
  {
   "cell_type": "code",
   "execution_count": 31,
   "metadata": {},
   "outputs": [
    {
     "name": "stdout",
     "output_type": "stream",
     "text": [
      "Collecting pandas\n",
      "  Downloading pandas-1.4.2-cp38-cp38-win_amd64.whl (10.6 MB)\n",
      "Requirement already satisfied: pytz>=2020.1 in e:\\anaconda\\lib\\site-packages (from pandas) (2021.1)\n",
      "Requirement already satisfied: python-dateutil>=2.8.1 in e:\\anaconda\\lib\\site-packages (from pandas) (2.8.1)\n",
      "Requirement already satisfied: numpy>=1.18.5 in e:\\anaconda\\lib\\site-packages (from pandas) (1.22.3)\n",
      "Requirement already satisfied: six>=1.5 in e:\\anaconda\\lib\\site-packages (from python-dateutil>=2.8.1->pandas) (1.16.0)\n",
      "Installing collected packages: pandas\n",
      "Successfully installed pandas-1.4.2\n"
     ]
    },
    {
     "name": "stderr",
     "output_type": "stream",
     "text": [
      "WARNING: Ignoring invalid distribution -ip (e:\\anaconda\\lib\\site-packages)\n",
      "WARNING: Ignoring invalid distribution -ip (e:\\anaconda\\lib\\site-packages)\n",
      "WARNING: Ignoring invalid distribution -ip (e:\\anaconda\\lib\\site-packages)\n",
      "WARNING: Ignoring invalid distribution -ip (e:\\anaconda\\lib\\site-packages)\n",
      "WARNING: Ignoring invalid distribution -ip (e:\\anaconda\\lib\\site-packages)\n",
      "WARNING: Ignoring invalid distribution -ip (e:\\anaconda\\lib\\site-packages)\n",
      "WARNING: Ignoring invalid distribution -ip (e:\\anaconda\\lib\\site-packages)\n"
     ]
    },
    {
     "data": {
      "text/html": [
       "<div>\n",
       "<style scoped>\n",
       "    .dataframe tbody tr th:only-of-type {\n",
       "        vertical-align: middle;\n",
       "    }\n",
       "\n",
       "    .dataframe tbody tr th {\n",
       "        vertical-align: top;\n",
       "    }\n",
       "\n",
       "    .dataframe thead th {\n",
       "        text-align: right;\n",
       "    }\n",
       "</style>\n",
       "<table border=\"1\" class=\"dataframe\">\n",
       "  <thead>\n",
       "    <tr style=\"text-align: right;\">\n",
       "      <th></th>\n",
       "      <th>Фрактал</th>\n",
       "      <th>Глубина = 1</th>\n",
       "    </tr>\n",
       "  </thead>\n",
       "  <tbody>\n",
       "    <tr>\n",
       "      <th>0</th>\n",
       "      <td>Кривая Коха</td>\n",
       "      <td>0.8636023998260498</td>\n",
       "    </tr>\n",
       "    <tr>\n",
       "      <th>1</th>\n",
       "      <td>Кривая Гильберта</td>\n",
       "      <td>0.799027681350708</td>\n",
       "    </tr>\n",
       "    <tr>\n",
       "      <th>2</th>\n",
       "      <td>Кривая Серпинского</td>\n",
       "      <td>2.5956194400787354</td>\n",
       "    </tr>\n",
       "    <tr>\n",
       "      <th>3</th>\n",
       "      <td>Салфетка Серпинского</td>\n",
       "      <td>1.5761964321136475</td>\n",
       "    </tr>\n",
       "    <tr>\n",
       "      <th>4</th>\n",
       "      <td>Ковер Серпинского</td>\n",
       "      <td>11.34839677810669</td>\n",
       "    </tr>\n",
       "    <tr>\n",
       "      <th>5</th>\n",
       "      <td>Дерево Пифагора</td>\n",
       "      <td>4.117222309112549</td>\n",
       "    </tr>\n",
       "  </tbody>\n",
       "</table>\n",
       "</div>"
      ],
      "text/plain": [
       "                Фрактал           Глубина = 1\n",
       "0           Кривая Коха    0.8636023998260498\n",
       "1      Кривая Гильберта    0.799027681350708 \n",
       "2    Кривая Серпинского   2.5956194400787354 \n",
       "3  Салфетка Серпинского   1.5761964321136475 \n",
       "4     Ковер Серпинского    11.34839677810669 \n",
       "5       Дерево Пифагора    4.117222309112549 "
      ]
     },
     "execution_count": 31,
     "metadata": {},
     "output_type": "execute_result"
    }
   ],
   "source": [
    "# !pip install pandas\n",
    "import pandas as pd\n",
    "table = [[\"Кривая Коха\", \"0.8636023998260498\"],\n",
    "        [\"Кривая Гильберта\", \" 0.799027681350708 \"],\n",
    "        [\"Кривая Серпинского\", \"2.5956194400787354 \"],\n",
    "        [\"Салфетка Серпинского\", \" 1.5761964321136475 \"],\n",
    "        [\"Ковер Серпинского\", \"11.34839677810669 \"],\n",
    "        [\"Дерево Пифагора\", \" 4.117222309112549 \"]]\n",
    "\n",
    "pd.DataFrame(table, columns=[\"Фрактал\",\"Глубина = 1\"])"
   ]
  },
  {
   "cell_type": "code",
   "execution_count": null,
   "metadata": {},
   "outputs": [],
   "source": []
  }
 ],
 "metadata": {
  "colab": {
   "collapsed_sections": [],
   "name": "Lab5.ipynb",
   "provenance": []
  },
  "kernelspec": {
   "display_name": "Python 3",
   "language": "python",
   "name": "python3"
  },
  "language_info": {
   "codemirror_mode": {
    "name": "ipython",
    "version": 3
   },
   "file_extension": ".py",
   "mimetype": "text/x-python",
   "name": "python",
   "nbconvert_exporter": "python",
   "pygments_lexer": "ipython3",
   "version": "3.8.3"
  }
 },
 "nbformat": 4,
 "nbformat_minor": 1
}
