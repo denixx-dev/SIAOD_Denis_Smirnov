{
 "cells": [
  {
   "cell_type": "markdown",
   "id": "db4b50f0",
   "metadata": {},
   "source": [
    "# Лабораторная работа №3\n",
    "## Выполнил студент группы Смирнов Денис Алексеевич БВТ2001"
   ]
  },
  {
   "cell_type": "markdown",
   "id": "annual-symbol",
   "metadata": {},
   "source": [
    "### Оглавление\n",
    "1. [Задание 1](#Задание-№1)\n",
    "2. [Задание 2](#Задание-№2)\n",
    "4. [Вывод](#Вывод)"
   ]
  },
  {
   "cell_type": "markdown",
   "id": "independent-spirit",
   "metadata": {},
   "source": [
    "> Дополнительные модули, использованные при выполнение лабораторной"
   ]
  },
  {
   "cell_type": "code",
   "execution_count": 6,
   "id": "4839be2b",
   "metadata": {},
   "outputs": [],
   "source": [
    "# Необходим при замере скорости выполнения кода\n",
    "import time\n",
    "# Нужен для создания словаря в алг. Бойера-Мура\n",
    "from collections import defaultdict"
   ]
  },
  {
   "cell_type": "markdown",
   "id": "inclusive-motorcycle",
   "metadata": {},
   "source": [
    "### Задание №1\n",
    "Реализовать методы поиска подстроки в строке. Добавить возможность ввода строки и подстроки с клавиатуры. Предусмотреть возможность существования пробела. Реализовать возможность выбора опции чувствительности или нечувствительности к регистру. Оценить время работы каждого алгоритма поиска и сравнить его со временем работы стандартной функции поиска, используемой в выбранном языке программирования."
   ]
  },
  {
   "cell_type": "markdown",
   "id": "interracial-communication",
   "metadata": {},
   "source": [
    "#### Алгоритм Кнута-Морриса-Пратта"
   ]
  },
  {
   "cell_type": "code",
   "execution_count": 17,
   "id": "presidential-level",
   "metadata": {},
   "outputs": [
    {
     "name": "stdout",
     "output_type": "stream",
     "text": [
      "-1\n"
     ]
    }
   ],
   "source": [
    "def prefix_funct(text):\n",
    "    n = len(text)\n",
    "    pi = [0]*n\n",
    "    for i in range(1,n):\n",
    "        j = pi[i-1]\n",
    "        while j>0 and text[j]!= text[i]:\n",
    "            j = pi[j-1]\n",
    "        if text[i] == text[j]:\n",
    "            j +=1\n",
    "        pi[i] = j\n",
    "    return pi\n",
    "\n",
    "def kmp(text, substr, ignore_case):\n",
    "    if ignore_case:\n",
    "        text = text.lower()\n",
    "        substr = substr.lower()\n",
    "    pi = prefix_funct(text)\n",
    "    i = 0\n",
    "    j = 0\n",
    "    n = len(text)\n",
    "    m = len(substr)\n",
    "    while(i < n):\n",
    "        if text[i] == substr[j]:\n",
    "            i += 1\n",
    "            j += 1\n",
    "            if j == m:\n",
    "                return i - m\n",
    "        else:\n",
    "            if j > 0:\n",
    "                j = pi[j - 1]\n",
    "            else:\n",
    "                i += 1\n",
    "    if i == n:\n",
    "        return -1\n",
    "\n",
    "text = \"I am here\"\n",
    "substr = 'aM'\n",
    "print(kmp(text, substr, False))"
   ]
  },
  {
   "cell_type": "markdown",
   "id": "downtown-option",
   "metadata": {},
   "source": [
    "#### Упрощенный алгоритм Бойера-Мура"
   ]
  },
  {
   "cell_type": "code",
   "execution_count": 24,
   "id": "respective-reggae",
   "metadata": {},
   "outputs": [
    {
     "name": "stdout",
     "output_type": "stream",
     "text": [
      "3\n"
     ]
    }
   ],
   "source": [
    "def boyer_moore(text, substr, ignore_case):\n",
    "    if ignore_case:\n",
    "        text = text.lower()\n",
    "        substr = substr.lower()\n",
    "    # создаем набор для уникальных значений символов в подстроке\n",
    "    sub_symb_set = set()\n",
    "    sub_len = len(substr)\n",
    "    t_len = len(text)\n",
    "    # создаем словарь для смещений символов подстроки\n",
    "    d = defaultdict()\n",
    "    for i in range(sub_len-2, -1, -1):\n",
    "        # если текущий символ подстроки не находится в наборе, \n",
    "        # то добавляем его в словарь смещений в качестве ключа\n",
    "        # и в качестве значения ключа присваиваем текущее смещение этого символа,\n",
    "        # затем добавляем этот символ в наш набор\n",
    "        if substr[i] not in sub_symb_set:\n",
    "            d[substr[i]] = sub_len-i-1\n",
    "            sub_symb_set.add(substr[i])\n",
    "    # если последний символ подстроки не равен ни одному из остальных ее символов,\n",
    "    # то добавляем его в наш словарь в качестве ключа\n",
    "    # и значению ключа присваиваем длину нашей подстроки\n",
    "    if substr[sub_len-1] not in sub_symb_set:\n",
    "        d[substr[sub_len-1]] = sub_len\n",
    "    \n",
    "    d['*'] = sub_len\n",
    "    \n",
    "    if t_len >= sub_len:\n",
    "        # индекс текущего символа текста\n",
    "        i = sub_len-1\n",
    "        \n",
    "        while i<t_len:\n",
    "            # счетчик к, охватывающий все символы текста\n",
    "            # до конца подстроки\n",
    "            k=0\n",
    "            flBreak = False\n",
    "            # проходимся по каждому символу подстроки\n",
    "            # и сравниваем его символом текста на \n",
    "            for j in range(sub_len-1,-1,-1):\n",
    "                # если последний элемент подстроки не совпал с элементом текста\n",
    "                # и этот символ текста входит в алфавит подстроки,\n",
    "                # то делаем смещение off \n",
    "                if text[i-k] != substr[j]:\n",
    "                    if j == sub_len-1:\n",
    "                        off = d[text[i]] if d.get(text[i], False) else d['*']\n",
    "                    else:\n",
    "                        off = d[substr[j]]\n",
    "                    i+= off\n",
    "                    flBreak = True\n",
    "                    break\n",
    "                    \n",
    "                k+=1\n",
    "            \n",
    "            # проверка на то, что мы дошли до первого символа нашей подстроки\n",
    "            if not flBreak:\n",
    "                return i-k+1 if i-k+1 != t_len else -1\n",
    "        else:\n",
    "            return -1\n",
    "    else:\n",
    "        return -1\n",
    "\n",
    "\n",
    "    \n",
    "text = 'He went home'\n",
    "substr = 'WeNT'\n",
    "print(boyer_moore(text, substr, True))    "
   ]
  },
  {
   "cell_type": "markdown",
   "id": "c4f48b2b",
   "metadata": {},
   "source": [
    "## Сравнение времени выполнения алгоритмов:"
   ]
  },
  {
   "cell_type": "code",
   "execution_count": 68,
   "id": "ece4763d",
   "metadata": {},
   "outputs": [
    {
     "name": "stdout",
     "output_type": "stream",
     "text": [
      "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\n"
     ]
    }
   ],
   "source": [
    "import random\n",
    "import string\n",
    "\n",
    "def buildblock(size):\n",
    "    return ''.join(random.choice(string.ascii_letters) for _ in range(size))\n",
    "\n",
    "sttr = buildblock(10**4)\n",
    "print(sttr)"
   ]
  },
  {
   "cell_type": "markdown",
   "id": "b0c69b66",
   "metadata": {},
   "source": [
    "###  Встроенная функция"
   ]
  },
  {
   "cell_type": "code",
   "execution_count": 70,
   "id": "6abfd0d7",
   "metadata": {},
   "outputs": [
    {
     "name": "stdout",
     "output_type": "stream",
     "text": [
      "Время выполнения встроенной функции: 0.0000577330\n",
      "9477\n"
     ]
    }
   ],
   "source": [
    "substr = \"MVG\"\n",
    "ignore_case = True\n",
    "if ignore_case:\n",
    "    sttr = sttr.lower()\n",
    "    substr = substr.lower()\n",
    "tic = time.perf_counter()\n",
    "index = sttr.index(substr)\n",
    "tac = time.perf_counter()\n",
    "print(f\"Время выполнения встроенной функции: {tac-tic:0.10f}\")\n",
    "print(index)"
   ]
  },
  {
   "cell_type": "markdown",
   "id": "6b5e1027",
   "metadata": {},
   "source": [
    "## Алгоритм КМП"
   ]
  },
  {
   "cell_type": "code",
   "execution_count": 71,
   "id": "c4ecd7e8",
   "metadata": {},
   "outputs": [
    {
     "name": "stdout",
     "output_type": "stream",
     "text": [
      "Время выполнения алгоритма КМП: 0.0052091230\n"
     ]
    }
   ],
   "source": [
    "tic = time.perf_counter()\n",
    "index = kmp(sttr, substr, ignore_case)\n",
    "tac = time.perf_counter()\n",
    "print(f\"Время выполнения алгоритма КМП: {tac-tic:0.10f}\")"
   ]
  },
  {
   "cell_type": "markdown",
   "id": "a30a5b25",
   "metadata": {},
   "source": [
    "## Алгоритм БМ"
   ]
  },
  {
   "cell_type": "code",
   "execution_count": 72,
   "id": "98d2cdba",
   "metadata": {},
   "outputs": [
    {
     "name": "stdout",
     "output_type": "stream",
     "text": [
      "Время выполнения алгоритма БМ: 0.0029719680\n"
     ]
    }
   ],
   "source": [
    "tic = time.perf_counter()\n",
    "index = boyer_moore(sttr, substr, ignore_case)\n",
    "tac = time.perf_counter()\n",
    "print(f\"Время выполнения алгоритма БМ: {tac-tic:0.10f}\")"
   ]
  },
  {
   "cell_type": "markdown",
   "id": "hybrid-memorial",
   "metadata": {},
   "source": [
    "### Задание №2\n",
    "Написать программу, определяющую, является ли данное\n",
    "расположение «решаемым», то есть можно ли из него за конечное число\n",
    "шагов перейти к правильному. Если это возможно, то необходимо найти хотя\n",
    "бы одно решение - последовательность движений, после которой числа будут\n",
    "расположены в правильном порядке.\n",
    "#### Входные данные: массив чисел, представляющий собой расстановку в\n",
    "Порядке «слева направо, сверху вниз». Число 0 обозначает пустое поле.\n",
    "Например, массив [1, 2, 3, 4, 5, 6, 7, 8, 9, 10, 11, 12, 13, 14, 15, 0] представляет\n",
    "собой «решенную» позицию элементов.\n",
    "#### Выходные данные: если решения нет, то функция должна вернуть\n",
    "Пустой массив []. Если решение есть, то необходимо представить решение —\n",
    "для каждого шага записывается номер передвигаемого на данном шаге\n",
    "элемента. "
   ]
  },
  {
   "cell_type": "code",
   "execution_count": 32,
   "id": "eleven-generic",
   "metadata": {
    "scrolled": true
   },
   "outputs": [
    {
     "name": "stdout",
     "output_type": "stream",
     "text": [
      "  1  2  3  4\n",
      "  5  6  7  8\n",
      " 13  9 11 12\n",
      " 10 14 15  0\n",
      "\n",
      "[15, 14, 10, 13, 9, 10, 14, 15]\n"
     ]
    }
   ],
   "source": [
    "from queue import PriorityQueue\n",
    "\n",
    "N = 4\n",
    "\n",
    "# Функция, определяющая движение пятнашек\n",
    "def moves(position):\n",
    "    blank = position.index(0)\n",
    "    # Возвращаются значения из кортежа с целой частью и остатком\n",
    "    i, j = divmod(blank, N)\n",
    "    # Задаем массив из смещений\n",
    "    offsets = []\n",
    "    # Движение вниз\n",
    "    if i > 0: offsets.append(-N)     \n",
    "    # Движение вверх\n",
    "    if i < N - 1: offsets.append(N)  \n",
    "    # Движение вправо\n",
    "    if j > 0: offsets.append(-1)\n",
    "    # Движение влево\n",
    "    if j < N - 1: offsets.append(1)  \n",
    "    for offset in offsets:\n",
    "        # Заполянем пустую ячейку элементом, который мы двигаем\n",
    "        swap = blank + offset\n",
    "        # Проверяем на то, является ли заменяемая ячейка пустой,\n",
    "        # и в случае, если у нас есть следующий элемент (не конец),\n",
    "        # то выводим ее индекс, а иначе индекс последнего элемента\n",
    "        yield tuple(position[swap] if x==blank else position[blank] if x==swap else position[x] for x in range(N*N))\n",
    "\n",
    "# Функция, определяющая есть ли у пятнашек конечное решение\n",
    "def parity(permutation):\n",
    "    # Создаем набор из уникальных данных с пройденными ячейками\n",
    "    # и создаем кол-во циклов прохождения по массиву ячеек\n",
    "    seen, cycles = set(), 0\n",
    "    for i in permutation:\n",
    "        # Проверяем на наличие текущей ячейки в нашем наборе при перестановке\n",
    "        # и добавляем его в набор при его отсутствии в нем\n",
    "        if i not in seen:\n",
    "            # Наращиваем счетчик циклов при отсутствии значений в наборе\n",
    "            cycles += 1\n",
    "            while i not in seen:\n",
    "                seen.add(i)\n",
    "                i = permutation[i]\n",
    "    return (cycles + len(permutation)) % 2\n",
    "\n",
    "# Класс, определяющий параметры заданного набора\n",
    "class Position:\n",
    "    # Конструктор, принимающий позицию и начальную дистанцию\n",
    "    def __init__(self, position, start_distance):\n",
    "        self.position = position\n",
    "        self.start_distance = start_distance\n",
    "\n",
    "    # Функция, срабатывающая при сравнении (<) объекта с другим объектом\n",
    "    def __lt__(self, other):\n",
    "        return self.start_distance < other.start_distance\n",
    "\n",
    "    # Функция, срабатывающая при использовании объекта как строки\n",
    "    # и создающая пятнашки в виде квадратной матрицы\n",
    "    def __str__(self):\n",
    "        return '\\n'.join((N*'{:3}').format(*[i%(N*N) for i in self.position[i:]]) \n",
    "for i in range(0, N*N, N))\n",
    "\n",
    "SOLVED = (1, 2, 3, 4, 5, 6, 7, 8, 9, 10, 11, 12, 13, 14, 15, 0)\n",
    "start = [1, 2, 3, 4, 5, 6, 7, 8, 13, 9, 11, 12, 10, 14, 15, 0]\n",
    "\n",
    "# Проверяем, можно ли в данной расстановке найти решение. Если нет, то выводим предупреждающее сообщение\n",
    "if parity(start) == 0:\n",
    "    print('Задачу решить нельзя')\n",
    "else:\n",
    "    # Иначе заполняем наш кортеж значниями из данного набора\n",
    "    start = tuple(start)\n",
    "    \n",
    "    p = Position(start, 0)\n",
    "\n",
    "    print(p)\n",
    "    print()\n",
    "\n",
    "    # Кладем в очередь с приоритетом первоначальную позицию\n",
    "    candidates = PriorityQueue()\n",
    "    candidates.put(p)\n",
    "\n",
    "    # Кортеж посещенных нами позиций\n",
    "    visited = set([p])\n",
    "    # Словарь из позиции в качестве ключа, значение которого в дальнейшем\n",
    "    # будем заполнять теми ячейками, которые стоит переместить для получения решения\n",
    "    came_from = {p.position: None}\n",
    "    \n",
    "    while p.position != SOLVED:\n",
    "        # Извлекаем из очереди позицию с наименьшим приоритетом\n",
    "        p = candidates.get()\n",
    "        # Кладем в очередь все соседние позиции. Повторяем, пока не вытащим конечную позицию из очереди\n",
    "        for k in moves(p.position):\n",
    "            if k not in visited:\n",
    "                candidates.put(Position(k, p.start_distance + 1))\n",
    "                came_from[k] = p\n",
    "                visited.add(k)\n",
    "\n",
    "    # Последовательное решение пятнашек (путь)\n",
    "    path = []\n",
    "    # Сохраняем конечную позицию\n",
    "    prev = p\n",
    "    # Идем в обратном порядке и запоминаем очередность хода в path\n",
    "    while p.position != start:\n",
    "        # Запоминаем, откуда ход\n",
    "        p = came_from[p.position]\n",
    "        number = p.position[prev.position.index(0)]\n",
    "        path.append(number)\n",
    "        prev = p\n",
    "    path.reverse()\n",
    "\n",
    "    print(path)"
   ]
  },
  {
   "cell_type": "markdown",
   "id": "arbitrary-amazon",
   "metadata": {},
   "source": [
    "### Вывод"
   ]
  },
  {
   "cell_type": "markdown",
   "id": "71bc58bf",
   "metadata": {},
   "source": [
    "Встроеная функция поиска быстрее всех. Благодаря алгоритмам КМП и Бойера-Мура можно находить подстроку в строке намного быстрее обычного перебора. В худшем случае время работы этих алгоритмов равно обычному перебору, но просто исключение."
   ]
  },
  {
   "cell_type": "code",
   "execution_count": null,
   "id": "4c588441",
   "metadata": {},
   "outputs": [],
   "source": []
  }
 ],
 "metadata": {
  "kernelspec": {
   "display_name": "Python 3",
   "language": "python",
   "name": "python3"
  },
  "language_info": {
   "codemirror_mode": {
    "name": "ipython",
    "version": 3
   },
   "file_extension": ".py",
   "mimetype": "text/x-python",
   "name": "python",
   "nbconvert_exporter": "python",
   "pygments_lexer": "ipython3",
   "version": "3.8.3"
  }
 },
 "nbformat": 4,
 "nbformat_minor": 5
}
