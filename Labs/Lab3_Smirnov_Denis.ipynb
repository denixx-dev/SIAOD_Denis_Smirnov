{
 "cells": [
  {
   "cell_type": "markdown",
   "id": "db4b50f0",
   "metadata": {},
   "source": [
    "# Лабораторная работа №3\n",
    "## Выполнил студент группы Смирнов Денис Алексеевич БВТ2001"
   ]
  },
  {
   "cell_type": "markdown",
   "id": "annual-symbol",
   "metadata": {},
   "source": [
    "### Оглавление\n",
    "1. [Задание 1](#Задание-№1)\n",
    "2. [Задание 2](#Задание-№2)\n",
    "4. [Вывод](#Вывод)"
   ]
  },
  {
   "cell_type": "markdown",
   "id": "independent-spirit",
   "metadata": {},
   "source": [
    "> Дополнительные модули, использованные при выполнение лабораторной"
   ]
  },
  {
   "cell_type": "code",
   "execution_count": 2,
   "id": "4839be2b",
   "metadata": {},
   "outputs": [],
   "source": [
    "# Необходим при замере скорости выполнения кода\n",
    "from datetime import datetime as t\n",
    "# Нужен для создания словаря в алг. Бойера-Мура\n",
    "from collections import defaultdict"
   ]
  },
  {
   "cell_type": "markdown",
   "id": "inclusive-motorcycle",
   "metadata": {},
   "source": [
    "### Задание №1\n",
    "Реализовать методы поиска подстроки в строке. Добавить возможность ввода строки и подстроки с клавиатуры. Предусмотреть возможность существования пробела. Реализовать возможность выбора опции чувствительности или нечувствительности к регистру. Оценить время работы каждого алгоритма поиска и сравнить его со временем работы стандартной функции поиска, используемой в выбранном языке программирования."
   ]
  },
  {
   "cell_type": "markdown",
   "id": "interracial-communication",
   "metadata": {},
   "source": [
    "#### Алгоритм Кнута-Морриса-Пратта"
   ]
  },
  {
   "cell_type": "code",
   "execution_count": 40,
   "id": "presidential-level",
   "metadata": {},
   "outputs": [
    {
     "name": "stdout",
     "output_type": "stream",
     "text": [
      "-1\n"
     ]
    }
   ],
   "source": [
    "def prefix_funct(text):\n",
    "    n = len(text)\n",
    "    pi = [0]*n\n",
    "    for i in range(1,n):\n",
    "        j = pi[i-1]\n",
    "        while j>0 and text[j]!= text[i]:\n",
    "            j = pi[j-1]\n",
    "        if text[i] == text[j]:\n",
    "            j +=1\n",
    "        pi[i] = j\n",
    "    return pi\n",
    "\n",
    "def kmp(text, substr, ignore_case):\n",
    "    if ignore_case:\n",
    "        text = text.lower()\n",
    "        substr = substr.lower()\n",
    "    pi = prefix_funct(text)\n",
    "    i = 0\n",
    "    j = 0\n",
    "    n = len(text)\n",
    "    m = len(substr)\n",
    "    while(i < n):\n",
    "        if text[i] == substr[j]:\n",
    "            i += 1\n",
    "            j += 1\n",
    "            if j == m:\n",
    "                return i - m\n",
    "        else:\n",
    "            if j > 0:\n",
    "                j = pi[j - 1]\n",
    "            else:\n",
    "                i += 1\n",
    "    if i == n:\n",
    "        return -1\n",
    "\n",
    "text = \"I am here\"\n",
    "substr = 'aM'\n",
    "print(kmp(text, substr, False))"
   ]
  },
  {
   "cell_type": "markdown",
   "id": "downtown-option",
   "metadata": {},
   "source": [
    "#### Упрощенный алгоритм Бойера-Мура"
   ]
  },
  {
   "cell_type": "code",
   "execution_count": 3,
   "id": "respective-reggae",
   "metadata": {},
   "outputs": [
    {
     "name": "stdout",
     "output_type": "stream",
     "text": [
      "3\n"
     ]
    }
   ],
   "source": [
    "def boyer_moore(text, substr, ignore_case):\n",
    "    if ignore_case:\n",
    "        text = text.lower()\n",
    "        substr = substr.lower()\n",
    "    # создаем набор для уникальных значений символов в подстроке\n",
    "    sub_symb_set = set()\n",
    "    sub_len = len(substr)\n",
    "    t_len = len(text)\n",
    "    # создаем словарь для смещений символов подстроки\n",
    "    d = defaultdict()\n",
    "    for i in range(sub_len-2, -1, -1):\n",
    "        # если текущий символ подстроки не находится в наборе, \n",
    "        # то добавляем его в словарь смещений в качестве ключа\n",
    "        # и в качестве значения ключа присваиваем текущее смещение этого символа,\n",
    "        # затем добавляем этот символ в наш набор\n",
    "        if substr[i] not in sub_symb_set:\n",
    "            d[substr[i]] = sub_len-i-1\n",
    "            sub_symb_set.add(substr[i])\n",
    "    # если последний символ подстроки не равен ни одному из остальных ее символов,\n",
    "    # то добавляем его в наш словарь в качестве ключа\n",
    "    # и значению ключа присваиваем длину нашей подстроки\n",
    "    if substr[sub_len-1] not in sub_symb_set:\n",
    "        d[substr[sub_len-1]] = sub_len\n",
    "    \n",
    "    d['*'] = sub_len\n",
    "    \n",
    "    if t_len >= sub_len:\n",
    "        # индекс текущего символа текста\n",
    "        i = sub_len-1\n",
    "        \n",
    "        while i<t_len:\n",
    "            # счетчик к, охватывающий все символы текста\n",
    "            # до конца подстроки\n",
    "            k=0\n",
    "            flBreak = False\n",
    "            # проходимся по каждому символу подстроки\n",
    "            # и сравниваем его символом текста на \n",
    "            for j in range(sub_len-1,-1,-1):\n",
    "                # если последний элемент подстроки не совпал с элементом текста\n",
    "                # и этот символ текста входит в алфавит подстроки,\n",
    "                # то делаем смещение off \n",
    "                if text[i-k] != substr[j]:\n",
    "                    if j == sub_len-1:\n",
    "                        off = d[text[i]] if d.get(text[i], False) else d['*']\n",
    "                    else:\n",
    "                        off = d[substr[j]]\n",
    "                    i+= off\n",
    "                    flBreak = True\n",
    "                    break\n",
    "                    \n",
    "                k+=1\n",
    "            \n",
    "            # проверка на то, что мы дошли до первого символа нашей подстроки\n",
    "            if not flBreak:\n",
    "                return i-k+1 if i-k+1 != t_len else -1\n",
    "        else:\n",
    "            return -1\n",
    "    else:\n",
    "        return -1\n",
    "\n",
    "\n",
    "    \n",
    "text = 'He went home'\n",
    "substr = 'WeNT'\n",
    "print(boyer_moore(text, substr, True))    "
   ]
  },
  {
   "cell_type": "markdown",
   "id": "hybrid-memorial",
   "metadata": {},
   "source": [
    "### Задание №2\n",
    "Написать программу, определяющую, является ли данное\n",
    "расположение «решаемым», то есть можно ли из него за конечное число\n",
    "шагов перейти к правильному. Если это возможно, то необходимо найти хотя\n",
    "бы одно решение - последовательность движений, после которой числа будут\n",
    "расположены в правильном порядке.\n",
    "#### Входные данные: массив чисел, представляющий собой расстановку в\n",
    "Порядке «слева направо, сверху вниз». Число 0 обозначает пустое поле.\n",
    "Например, массив [1, 2, 3, 4, 5, 6, 7, 8, 9, 10, 11, 12, 13, 14, 15, 0] представляет\n",
    "собой «решенную» позицию элементов.\n",
    "#### Выходные данные: если решения нет, то функция должна вернуть\n",
    "Пустой массив []. Если решение есть, то необходимо представить решение —\n",
    "для каждого шага записывается номер передвигаемого на данном шаге\n",
    "элемента. "
   ]
  },
  {
   "cell_type": "code",
   "execution_count": 5,
   "id": "eleven-generic",
   "metadata": {},
   "outputs": [],
   "source": []
  },
  {
   "cell_type": "markdown",
   "id": "arbitrary-amazon",
   "metadata": {},
   "source": [
    "### Вывод"
   ]
  },
  {
   "cell_type": "markdown",
   "id": "71bc58bf",
   "metadata": {},
   "source": []
  }
 ],
 "metadata": {
  "kernelspec": {
   "display_name": "Python 3",
   "language": "python",
   "name": "python3"
  },
  "language_info": {
   "codemirror_mode": {
    "name": "ipython",
    "version": 3
   },
   "file_extension": ".py",
   "mimetype": "text/x-python",
   "name": "python",
   "nbconvert_exporter": "python",
   "pygments_lexer": "ipython3",
   "version": "3.8.3"
  }
 },
 "nbformat": 4,
 "nbformat_minor": 5
}
