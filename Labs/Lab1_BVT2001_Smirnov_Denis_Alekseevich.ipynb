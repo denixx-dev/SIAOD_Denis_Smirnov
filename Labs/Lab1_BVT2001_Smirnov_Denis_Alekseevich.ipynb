{
 "cells": [
  {
   "cell_type": "markdown",
   "id": "bc13f0c2",
   "metadata": {},
   "source": [
    "# Лабораторная работа №1\n",
    "## Выполнил студент группы БВТ2001 Смирнов Денис Алексеевич\n",
    "### Задание №1\n",
    "Вывести на экран \"Hello, world\""
   ]
  },
  {
   "cell_type": "code",
   "execution_count": 21,
   "id": "4c4247db",
   "metadata": {},
   "outputs": [
    {
     "name": "stdout",
     "output_type": "stream",
     "text": [
      "Hello, world\n"
     ]
    }
   ],
   "source": [
    "print(\"Hello, world\")"
   ]
  },
  {
   "cell_type": "markdown",
   "id": "fef4d330",
   "metadata": {},
   "source": [
    "### Задание №2\n",
    "Написать генератор случайных матриц"
   ]
  },
  {
   "cell_type": "code",
   "execution_count": 3,
   "id": "28dd89e5",
   "metadata": {},
   "outputs": [
    {
     "name": "stdout",
     "output_type": "stream",
     "text": [
      "m =3\n",
      "n =3\n",
      "min_limit =\n",
      "max_limit =\n",
      "[[1018, -231, -20], [373, 934, -143], [237, 47, 627]]\n"
     ]
    }
   ],
   "source": [
    "from random import randint\n",
    "\n",
    "m = int(input(\"m =\") or 50) \n",
    "n = int(input(\"n =\") or 50) \n",
    "\n",
    "min_lim = int(input(\"min_limit =\") or -250) \n",
    "max_lim = int(input(\"max_limit =\") or 1000+20) \n",
    "\n",
    "#arr = [[randint(min_lim, max_lim) for j in range(n)] for i in range(m)]\n",
    "\n",
    "arr = []\n",
    "\n",
    "for i in range(m):\n",
    "    arr.append([])\n",
    "    for j in range(n):\n",
    "        arr[i].append(randint(min_lim, max_lim))\n",
    "\n",
    "\n",
    "print(arr)\n",
    "\n",
    "def shell_sort(arr):\n",
    "    length = len(arr)\n",
    "    gap = length//2\n",
    "    while gap > 0:\n",
    "        for i in range(gap, length):\n",
    "            curr_val = arr[i]\n",
    "            pos = i\n",
    "            while pos >= gap and arr[pos-gap] > curr_val:\n",
    "                arr[pos] = arr[pos-gap]\n",
    "                pos -= gap\n",
    "                arr[pos] = curr_val\n",
    "        gap//=2\n",
    "    return arr"
   ]
  },
  {
   "cell_type": "markdown",
   "id": "b3b0894a",
   "metadata": {},
   "source": [
    "### Задание №3\n",
    "Реализовать методы сортировки строк числовой матрицы"
   ]
  },
  {
   "cell_type": "code",
   "execution_count": 16,
   "id": "6002f406",
   "metadata": {},
   "outputs": [
    {
     "name": "stdout",
     "output_type": "stream",
     "text": [
      "m =3\n",
      "n =3\n",
      "min_limit =\n",
      "max_limit =\n",
      "[[550, -97, 921], [-204, -203, 547], [976, -37, 509]]\n",
      "\n",
      "[-204, -203, -97, -37, 509, 547, 550, 921, 976]\n",
      "\n",
      "[-204, -203, -97]\n",
      "[-37, 509, 547]\n",
      "[550, 921, 976]\n"
     ]
    }
   ],
   "source": [
    "m = int(input(\"m =\") or 50) \n",
    "n = int(input(\"n =\") or 50) \n",
    "\n",
    "min_lim = int(input(\"min_limit =\") or -250) \n",
    "max_lim = int(input(\"max_limit =\") or 1000+20) \n",
    "\n",
    "#arr = [[randint(min_lim, max_lim) for j in range(n)] for i in range(m)]\n",
    "\n",
    "arr = []\n",
    "\n",
    "\n",
    "#Matrix filling\n",
    "for i in range(m):\n",
    "    arr.append([])\n",
    "    for j in range(n):\n",
    "        arr[i].append(randint(min_lim, max_lim))\n",
    "print(arr)\n",
    "\n",
    "#1.Selection sort\n",
    "def select_sort(arr):\n",
    "    for i in range(0, len(arr)):\n",
    "        min_val = i\n",
    "        for j in range(i+1, len(arr)):\n",
    "            if arr[j] < arr[min_val]:\n",
    "                min_val = j\n",
    "        arr[i], arr[min_val] = arr[min_val], arr[i]\n",
    "    return arr\n",
    "#2.Insertion sort\n",
    "def insert_sort(arr):\n",
    "    for i in range(0, len(arr)):\n",
    "        cursor = arr[i]\n",
    "        pos = i\n",
    "        while pos > 0 and arr[pos - 1] > cursor:\n",
    "            arr[pos] = arr[pos - 1]\n",
    "            pos = pos - 1\n",
    "        arr[pos] = cursor\n",
    "    return arr    \n",
    "#4.Shell sort\n",
    "def shell_sort(arr):\n",
    "    length = len(arr)\n",
    "    gap = length//2\n",
    "    while gap > 0:\n",
    "        for i in range(gap, length):\n",
    "            curr_val = arr[i]\n",
    "            pos = i\n",
    "            while pos >= gap and arr[pos-gap] > curr_val:\n",
    "                arr[pos] = arr[pos-gap]\n",
    "                pos -= gap\n",
    "                arr[pos] = curr_val\n",
    "        gap//=2\n",
    "    return arr\n",
    "#6 Quicksort\n",
    "def quick_sort(array):\n",
    "    less = []\n",
    "    equal = []\n",
    "    greater = []\n",
    "    if len(array) > 1:\n",
    "        pivot = array[0]\n",
    "        for x in array:\n",
    "            if x < pivot:\n",
    "                less.append(x)\n",
    "            elif x == pivot:\n",
    "                equal.append(x)\n",
    "            elif x > pivot:\n",
    "                greater.append(x)\n",
    "        return quick_sort(less)+equal+quick_sort(greater)\n",
    "    else:\n",
    "        return array\n",
    "\n",
    "#7 Heap sort\n",
    "def heapify(arr, n, i):\n",
    "    largest = i \n",
    "    l = 2 * i + 1   \n",
    "    r = 2 * i + 2   \n",
    "    \n",
    "    if l < n and arr[i] < arr[l]:\n",
    "        largest = l\n",
    "        \n",
    "    if r < n and arr[largest] < arr[r]:\n",
    "        largest = r  \n",
    "    \n",
    "    if largest != i:\n",
    "        arr[i],arr[largest] = arr[largest],arr[i]\n",
    "        heapify(arr, n, largest)\n",
    "\n",
    "def heap_sort(arr):\n",
    "    n = len(arr)\n",
    "\n",
    "    for i in range(n, -1, -1):\n",
    "        heapify(arr, n, i)\n",
    "\n",
    "    for i in range(n-1, 0, -1):\n",
    "        arr[i], arr[0] = arr[0], arr[i] \n",
    "        heapify(arr, i, 0)\n",
    "    return arr\n",
    "\n",
    "#Converts matrix in 1-dimnensional array\n",
    "def matrix_2_arr(arr):\n",
    "    new_arr = []\n",
    "    for i in arr:\n",
    "        for j in i:\n",
    "            new_arr.append(j)\n",
    "    return new_arr\n",
    "\n",
    "print()\n",
    "#Change sort functions here\n",
    "sorted_arr = heap_sort(matrix_2_arr(arr))\n",
    "print(sorted_arr)\n",
    "\n",
    "final_matr = []\n",
    "\n",
    "for i in range(m):\n",
    "    final_matr.append([])\n",
    "    for j in range(n):\n",
    "        final_matr[i].append(sorted_arr[i*n+j])\n",
    "\n",
    "print()\n",
    "for i in final_matr:\n",
    "    print(i)   "
   ]
  },
  {
   "cell_type": "code",
   "execution_count": null,
   "id": "809837c9",
   "metadata": {},
   "outputs": [],
   "source": []
  },
  {
   "cell_type": "code",
   "execution_count": null,
   "id": "a22391bc",
   "metadata": {},
   "outputs": [],
   "source": []
  }
 ],
 "metadata": {
  "celltoolbar": "Отсутствует",
  "kernelspec": {
   "display_name": "Python 3",
   "language": "python",
   "name": "python3"
  },
  "language_info": {
   "codemirror_mode": {
    "name": "ipython",
    "version": 3
   },
   "file_extension": ".py",
   "mimetype": "text/x-python",
   "name": "python",
   "nbconvert_exporter": "python",
   "pygments_lexer": "ipython3",
   "version": "3.8.3"
  }
 },
 "nbformat": 4,
 "nbformat_minor": 5
}
