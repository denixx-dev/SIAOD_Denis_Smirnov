{
 "cells": [
  {
   "cell_type": "markdown",
   "id": "bc13f0c2",
   "metadata": {},
   "source": [
    "# Лабораторная работа №1\n",
    "## Выполнил студент группы БВТ2001 Смирнов Денис Алексеевич\n",
    "### Задание №1\n",
    "Вывести на экран \"Hello, world\""
   ]
  },
  {
   "cell_type": "code",
   "execution_count": 2,
   "id": "4c4247db",
   "metadata": {},
   "outputs": [
    {
     "name": "stdout",
     "output_type": "stream",
     "text": [
      "Hello, world\n"
     ]
    }
   ],
   "source": [
    "print(\"Hello, world\")"
   ]
  },
  {
   "cell_type": "markdown",
   "id": "fef4d330",
   "metadata": {},
   "source": [
    "### Задание №2\n",
    "Написать генератор случайных матриц"
   ]
  },
  {
   "cell_type": "code",
   "execution_count": 11,
   "id": "28dd89e5",
   "metadata": {},
   "outputs": [
    {
     "name": "stdout",
     "output_type": "stream",
     "text": [
      "m =\n",
      "n =\n",
      "min_limit =\n",
      "max_limit =\n"
     ]
    }
   ],
   "source": [
    "from random import randint\n",
    "import math\n",
    "import time\n",
    "\n",
    "m = int(input(\"m =\") or 50) \n",
    "n = int(input(\"n =\") or 50) \n",
    "\n",
    "min_lim = int(input(\"min_limit =\") or -250) \n",
    "max_lim = int(input(\"max_limit =\") or 1000+20) \n",
    "\n",
    "#arr = [[randint(min_lim, max_lim) for j in range(n)] for i in range(m)]\n",
    "\n",
    "arr = []\n",
    "\n",
    "for i in range(m):\n",
    "    arr.append([])\n",
    "    for j in range(n):\n",
    "        arr[i].append(randint(min_lim, max_lim))"
   ]
  },
  {
   "cell_type": "markdown",
   "id": "b3b0894a",
   "metadata": {},
   "source": [
    "### Задание №3\n",
    "Реализовать методы сортировки строк числовой матрицы"
   ]
  },
  {
   "cell_type": "markdown",
   "id": "6d99cec2",
   "metadata": {},
   "source": [
    "### Встроенная сортировка"
   ]
  },
  {
   "cell_type": "code",
   "execution_count": 2,
   "id": "0ae1315c",
   "metadata": {},
   "outputs": [
    {
     "name": "stdout",
     "output_type": "stream",
     "text": [
      "Встроенная сортировка заняла 0.0020906000 секунд\n"
     ]
    }
   ],
   "source": [
    "#Converts matrix in 1-dimnensional list\n",
    "def matrix_2_arr(arr):\n",
    "    new_arr = []\n",
    "    for i in arr:\n",
    "        for j in i:\n",
    "            new_arr.append(j)\n",
    "    return new_arr\n",
    "\n",
    "flat_matr = matrix_2_arr(arr)\n",
    "\n",
    "tic = time.perf_counter()\n",
    "# The sorting itself\n",
    "sorted_arr = sorted(flat_matr)\n",
    "toc = time.perf_counter()\n",
    "print(f\"Встроенная сортировка заняла {toc - tic:0.10f} секунд\")\n",
    "builtin_sort_time = toc - tic\n",
    "\n",
    "final_matr = []\n",
    "#1-dimmesional list output as matrix\n",
    "for i in range(m):\n",
    "    final_matr.append([])\n",
    "    for j in range(n):\n",
    "        final_matr[i].append(sorted_arr[i*n+j])"
   ]
  },
  {
   "cell_type": "markdown",
   "id": "29700991",
   "metadata": {},
   "source": [
    "### Сортировка выбором"
   ]
  },
  {
   "cell_type": "code",
   "execution_count": 3,
   "id": "e904a484",
   "metadata": {},
   "outputs": [
    {
     "name": "stdout",
     "output_type": "stream",
     "text": [
      "Сортировка выбором заняла 0.4593953000 секунд\n",
      "Сортировка выбором медленнее, чем встроенная\n"
     ]
    }
   ],
   "source": [
    "def select_sort(arr):\n",
    "    for i in range(0, len(arr)):\n",
    "        min_val = i\n",
    "        for j in range(i+1, len(arr)):\n",
    "            if arr[j] < arr[min_val]:\n",
    "                min_val = j\n",
    "        arr[i], arr[min_val] = arr[min_val], arr[i]\n",
    "    return arr\n",
    "\n",
    "#Converts matrix in 1-dimnensional list\n",
    "def matrix_2_arr(arr):\n",
    "    new_arr = []\n",
    "    for i in arr:\n",
    "        for j in i:\n",
    "            new_arr.append(j)\n",
    "    return new_arr\n",
    "\n",
    "flat_matr = matrix_2_arr(arr)\n",
    "\n",
    "tic = time.perf_counter()\n",
    "# The sorting itself\n",
    "sorted_arr = select_sort(flat_matr)\n",
    "toc = time.perf_counter()\n",
    "print(f\"Сортировка выбором заняла {toc - tic:0.10f} секунд\")\n",
    "\n",
    "if toc - tic < builtin_sort_time:\n",
    "    print(\"Сортировка выбором быстрее, чем встроенная\")\n",
    "else:\n",
    "    print(\"Сортировка выбором медленнее, чем встроенная\")\n",
    "\n",
    "final_matr = []\n",
    "#1-dimmesional list output as matrix\n",
    "for i in range(m):\n",
    "    final_matr.append([])\n",
    "    for j in range(n):\n",
    "        final_matr[i].append(sorted_arr[i*n+j])"
   ]
  },
  {
   "cell_type": "markdown",
   "id": "a19159ce",
   "metadata": {},
   "source": [
    "### Сортировка вставкой"
   ]
  },
  {
   "cell_type": "code",
   "execution_count": 4,
   "id": "4b45f0a1",
   "metadata": {},
   "outputs": [
    {
     "name": "stdout",
     "output_type": "stream",
     "text": [
      "Сортировка вставкой заняла 0.5930892000 секунд\n",
      "Сортировка вставкой медленнее, чем встроенная\n"
     ]
    }
   ],
   "source": [
    "def insert_sort(arr):\n",
    "    for i in range(0, len(arr)):\n",
    "        cursor = arr[i]\n",
    "        pos = i\n",
    "        while pos > 0 and arr[pos - 1] > cursor:\n",
    "            arr[pos] = arr[pos - 1]\n",
    "            pos = pos - 1\n",
    "        arr[pos] = cursor\n",
    "    return arr\n",
    "\n",
    "#Converts matrix in 1-dimnensional list\n",
    "def matrix_2_arr(arr):\n",
    "    new_arr = []\n",
    "    for i in arr:\n",
    "        for j in i:\n",
    "            new_arr.append(j)\n",
    "    return new_arr\n",
    "\n",
    "flat_matr = matrix_2_arr(arr)\n",
    "\n",
    "tic = time.perf_counter()\n",
    "# The sorting itself\n",
    "sorted_arr = insert_sort(flat_matr)\n",
    "toc = time.perf_counter()\n",
    "print(f\"Сортировка вставкой заняла {toc - tic:0.10f} секунд\")\n",
    "\n",
    "if toc - tic < builtin_sort_time:\n",
    "    print(\"Сортировка вставкой быстрее, чем встроенная\")\n",
    "else:\n",
    "    print(\"Сортировка вставкой медленнее, чем встроенная\")\n",
    "\n",
    "final_matr = []\n",
    "#1-dimmesional list output as matrix\n",
    "for i in range(m):\n",
    "    final_matr.append([])\n",
    "    for j in range(n):\n",
    "        final_matr[i].append(sorted_arr[i*n+j])"
   ]
  },
  {
   "cell_type": "markdown",
   "id": "27dbcc94",
   "metadata": {},
   "source": [
    "### Сортировка обменом"
   ]
  },
  {
   "cell_type": "code",
   "execution_count": 12,
   "id": "32ca1d1a",
   "metadata": {},
   "outputs": [
    {
     "name": "stdout",
     "output_type": "stream",
     "text": [
      "Сортировка обменом заняла 1.6569904000 секунд\n",
      "Сортировка обменом медленнее, чем встроенная\n"
     ]
    }
   ],
   "source": [
    "def exc_sort(nums):\n",
    "    swapped = True\n",
    "    while swapped:\n",
    "        swapped = False\n",
    "        for i in range(len(nums) - 1):\n",
    "            if nums[i] > nums[i + 1]:\n",
    "                nums[i], nums[i + 1] = nums[i + 1], nums[i]\n",
    "                swapped = True\n",
    "    return nums\n",
    "\n",
    "#Converts matrix in 1-dimnensional list\n",
    "def matrix_2_arr(arr):\n",
    "    new_arr = []\n",
    "    for i in arr:\n",
    "        for j in i:\n",
    "            new_arr.append(j)\n",
    "    return new_arr\n",
    "\n",
    "flat_matr = matrix_2_arr(arr)\n",
    "\n",
    "tic = time.perf_counter()\n",
    "# The sorting itself\n",
    "sorted_arr = exc_sort(flat_matr)\n",
    "toc = time.perf_counter()\n",
    "print(f\"Сортировка обменом заняла {toc - tic:0.10f} секунд\")\n",
    "\n",
    "if toc - tic < builtin_sort_time:\n",
    "    print(\"Сортировка обменом быстрее, чем встроенная\")\n",
    "else:\n",
    "    print(\"Сортировка обменом медленнее, чем встроенная\")\n",
    "\n",
    "final_matr = []\n",
    "#1-dimmesional list output as matrix\n",
    "for i in range(m):\n",
    "    final_matr.append([])\n",
    "    for j in range(n):\n",
    "        final_matr[i].append(sorted_arr[i*n+j])"
   ]
  },
  {
   "cell_type": "markdown",
   "id": "04565a2a",
   "metadata": {},
   "source": [
    "### Сортировка Шелла"
   ]
  },
  {
   "cell_type": "code",
   "execution_count": 5,
   "id": "7e895ee8",
   "metadata": {},
   "outputs": [
    {
     "name": "stdout",
     "output_type": "stream",
     "text": [
      "Сортировка Шелла заняла 0.0423047000 секунд\n",
      "Сортировка Шелла медленнее, чем встроенная\n"
     ]
    }
   ],
   "source": [
    "def shell_sort(arr):\n",
    "    length = len(arr)\n",
    "    gap = length//2\n",
    "    while gap > 0:\n",
    "        for i in range(gap, length):\n",
    "            curr_val = arr[i]\n",
    "            pos = i\n",
    "            while pos >= gap and arr[pos-gap] > curr_val:\n",
    "                arr[pos] = arr[pos-gap]\n",
    "                pos -= gap\n",
    "                arr[pos] = curr_val\n",
    "        gap//=2\n",
    "    return arr\n",
    "\n",
    "#Converts matrix in 1-dimnensional list\n",
    "def matrix_2_arr(arr):\n",
    "    new_arr = []\n",
    "    for i in arr:\n",
    "        for j in i:\n",
    "            new_arr.append(j)\n",
    "    return new_arr\n",
    "\n",
    "flat_matr = matrix_2_arr(arr)\n",
    "\n",
    "tic = time.perf_counter()\n",
    "# The sorting itself\n",
    "sorted_arr = shell_sort(flat_matr)\n",
    "toc = time.perf_counter()\n",
    "print(f\"Сортировка Шелла заняла {toc - tic:0.10f} секунд\")\n",
    "\n",
    "if toc - tic < builtin_sort_time:\n",
    "    print(\"Сортировка Шелла быстрее, чем встроенная\")\n",
    "else:\n",
    "    print(\"Сортировка Шелла медленнее, чем встроенная\")\n",
    "\n",
    "final_matr = []\n",
    "#1-dimmesional list output as matrix\n",
    "for i in range(m):\n",
    "    final_matr.append([])\n",
    "    for j in range(n):\n",
    "        final_matr[i].append(sorted_arr[i*n+j])"
   ]
  },
  {
   "cell_type": "markdown",
   "id": "34912469",
   "metadata": {},
   "source": [
    "### Турнирная сортировка"
   ]
  },
  {
   "cell_type": "code",
   "execution_count": 10,
   "id": "04233590",
   "metadata": {},
   "outputs": [
    {
     "name": "stdout",
     "output_type": "stream",
     "text": [
      "Турнирная сортировка заняла 0.0559522000 секунд\n",
      "Турнирная сортировка медленнее, чем встроенная\n"
     ]
    }
   ],
   "source": [
    "def tournament_sort(arr:list):\n",
    "    tree = [None]*2*(len(arr)+len(arr)%2)\n",
    "    index = len(tree) - len(arr) - len(arr)%2\n",
    "    \n",
    "    for ix, el in enumerate(arr):\n",
    "        tree[index+ix] = (ix,el)\n",
    "    \n",
    "    for j in range(len(arr)):\n",
    "        n = len(arr)\n",
    "        index = len(tree) - len(arr) - len(arr)%2\n",
    "        while index > -1:\n",
    "            n = (n+1)//2\n",
    "            for ix in range(n):\n",
    "                ix = max(index+ix*2, 1)\n",
    "                if tree[ix] is not None and tree[ix+1] is not None:\n",
    "                    tree[ix//2] = tree[ix+(tree[ix][1]>=tree[ix+1][1])]\n",
    "                else:\n",
    "                    tree[ix//2] = tree[ix] if tree[ix] is not None else tree[ix+1]\n",
    "            index -= n\n",
    "        index,x = tree[0]\n",
    "        \n",
    "        arr[j] = x\n",
    "        tree[len(tree) - len(arr) - len(arr)%2 + index] = None\n",
    "    return arr\n",
    "\n",
    "#Converts matrix in 1-dimnensional list\n",
    "def matrix_2_arr(arr):\n",
    "    new_arr = []\n",
    "    for i in arr:\n",
    "        for j in i:\n",
    "            new_arr.append(j)\n",
    "    return new_arr\n",
    "\n",
    "flat_matr = matrix_2_arr(arr)\n",
    "\n",
    "#[3,2,1,4,5,1,10,324,1,-342,-3144]\n",
    "\n",
    "# arr2 =[3,2,1,4,5,1,10,324,1,-342,-3144]\n",
    "# arr1 = [randint(min_lim, max_lim) for i in range(m*n)]\n",
    "# print(arr1)\n",
    "tic = time.perf_counter()\n",
    "# The sorting itself\n",
    "sorted_arr = tournament_sort(flat_matr)\n",
    "toc = time.perf_counter()\n",
    "print(f\"Турнирная сортировка заняла {toc - tic:0.10f} секунд\")\n",
    "\n",
    "# print(sorted_arr)\n",
    "if toc - tic < builtin_sort_time:\n",
    "    print(\"Турнирная сортировка быстрее, чем встроенная\")\n",
    "else:\n",
    "    print(\"Турнирная сортировка медленнее, чем встроенная\")\n",
    "\n",
    "final_matr = []\n",
    "#1-dimmesional list output as matrix\n",
    "for i in range(m):\n",
    "    final_matr.append([])\n",
    "    for j in range(n):\n",
    "        final_matr[i].append(sorted_arr[i*n+j])"
   ]
  },
  {
   "cell_type": "markdown",
   "id": "29a4e170",
   "metadata": {},
   "source": [
    "#### Быстрая сортировка"
   ]
  },
  {
   "cell_type": "code",
   "execution_count": 7,
   "id": "5051ba76",
   "metadata": {},
   "outputs": [
    {
     "name": "stdout",
     "output_type": "stream",
     "text": [
      "Быстрая сортировка заняла 0.0132253000 секунд\n",
      "Быстрая сортировка медленнее, чем встроенная\n"
     ]
    }
   ],
   "source": [
    "def quick_sort(array):\n",
    "    less = []\n",
    "    equal = []\n",
    "    greater = []\n",
    "    if len(array) > 1:\n",
    "        pivot = array[0]\n",
    "        for x in array:\n",
    "            if x < pivot:\n",
    "                less.append(x)\n",
    "            elif x == pivot:\n",
    "                equal.append(x)\n",
    "            elif x > pivot:\n",
    "                greater.append(x)\n",
    "        return quick_sort(less)+equal+quick_sort(greater)\n",
    "    else:\n",
    "        return array\n",
    "    \n",
    "#Converts matrix in 1-dimnensional list\n",
    "def matrix_2_arr(arr):\n",
    "    new_arr = []\n",
    "    for i in arr:\n",
    "        for j in i:\n",
    "            new_arr.append(j)\n",
    "    return new_arr\n",
    "\n",
    "flat_matr = matrix_2_arr(arr)\n",
    "\n",
    "tic = time.perf_counter()\n",
    "# The sorting itself\n",
    "sorted_arr = quick_sort(flat_matr)\n",
    "toc = time.perf_counter()\n",
    "print(f\"Быстрая сортировка заняла {toc - tic:0.10f} секунд\")\n",
    "\n",
    "if toc - tic < builtin_sort_time:\n",
    "    print(\"Быстрая сортировка быстрее, чем встроенная\")\n",
    "else:\n",
    "    print(\"Быстрая сортировка медленнее, чем встроенная\")\n",
    "\n",
    "final_matr = []\n",
    "#1-dimmesional list output as matrix\n",
    "for i in range(m):\n",
    "    final_matr.append([])\n",
    "    for j in range(n):\n",
    "        final_matr[i].append(sorted_arr[i*n+j])"
   ]
  },
  {
   "cell_type": "markdown",
   "id": "8e443fa8",
   "metadata": {},
   "source": [
    "### Пирамидальная сортировка"
   ]
  },
  {
   "cell_type": "code",
   "execution_count": 8,
   "id": "7e617e1c",
   "metadata": {},
   "outputs": [
    {
     "name": "stdout",
     "output_type": "stream",
     "text": [
      "Пирамидальная сортировка заняла 0.0307643000 секунд\n",
      "Пирамидальная сортировка медленнее, чем встроенная\n"
     ]
    }
   ],
   "source": [
    "def heapify(arr, n, i):\n",
    "    largest = i \n",
    "    l = 2 * i + 1   \n",
    "    r = 2 * i + 2   \n",
    "    \n",
    "    if l < n and arr[i] < arr[l]:\n",
    "        largest = l\n",
    "        \n",
    "    if r < n and arr[largest] < arr[r]:\n",
    "        largest = r  \n",
    "    \n",
    "    if largest != i:\n",
    "        arr[i],arr[largest] = arr[largest],arr[i]\n",
    "        heapify(arr, n, largest)\n",
    "\n",
    "def heap_sort(arr):\n",
    "    n = len(arr)\n",
    "\n",
    "    for i in range(n, -1, -1):\n",
    "        heapify(arr, n, i)\n",
    "\n",
    "    for i in range(n-1, 0, -1):\n",
    "        arr[i], arr[0] = arr[0], arr[i] \n",
    "        heapify(arr, i, 0)\n",
    "    return arr\n",
    "\n",
    "#Converts matrix in 1-dimnensional list\n",
    "def matrix_2_arr(arr):\n",
    "    new_arr = []\n",
    "    for i in arr:\n",
    "        for j in i:\n",
    "            new_arr.append(j)\n",
    "    return new_arr\n",
    "\n",
    "flat_matr = matrix_2_arr(arr)\n",
    "\n",
    "tic = time.perf_counter()\n",
    "# The sorting itself\n",
    "sorted_arr = heap_sort(flat_matr)\n",
    "toc = time.perf_counter()\n",
    "print(f\"Пирамидальная сортировка заняла {toc - tic:0.10f} секунд\")\n",
    "\n",
    "if toc - tic < builtin_sort_time:\n",
    "    print(\"Пирамидальная сортировка быстрее, чем встроенная\")\n",
    "else:\n",
    "    print(\"Пирамидальная сортировка медленнее, чем встроенная\")\n",
    "\n",
    "final_matr = []\n",
    "#1-dimmesional list output as matrix\n",
    "for i in range(m):\n",
    "    final_matr.append([])\n",
    "    for j in range(n):\n",
    "        final_matr[i].append(sorted_arr[i*n+j])"
   ]
  },
  {
   "cell_type": "code",
   "execution_count": null,
   "id": "f9cfdcb8",
   "metadata": {},
   "outputs": [],
   "source": []
  }
 ],
 "metadata": {
  "celltoolbar": "Отсутствует",
  "kernelspec": {
   "display_name": "Python 3 (ipykernel)",
   "language": "python",
   "name": "python3"
  },
  "language_info": {
   "codemirror_mode": {
    "name": "ipython",
    "version": 3
   },
   "file_extension": ".py",
   "mimetype": "text/x-python",
   "name": "python",
   "nbconvert_exporter": "python",
   "pygments_lexer": "ipython3",
   "version": "3.9.7"
  }
 },
 "nbformat": 4,
 "nbformat_minor": 5
}
