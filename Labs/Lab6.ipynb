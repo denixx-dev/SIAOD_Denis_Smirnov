{
 "cells": [
  {
   "cell_type": "markdown",
   "metadata": {
    "id": "0z3KlfKDn4_K"
   },
   "source": [
    "# Лабораторная работа 6. \n",
    "# Сетевые алгоритмы. Динамические алгоритмы поиска путей.\n"
   ]
  },
  {
   "cell_type": "markdown",
   "metadata": {
    "id": "96Gi_LEvmSVH"
   },
   "source": [
    "## Выполнил студент группы ФИО ГРУППА\n",
    "***"
   ]
  },
  {
   "cell_type": "markdown",
   "metadata": {
    "id": "GjdIp8aToKIe"
   },
   "source": [
    "### Задание\n",
    "\n",
    "1.  Реализовать алгоритм поиска кратчайшего расстояния между двумя вершинами ориентированного взвешенного графа в соответствии с вариантом. \n",
    "\n",
    "2.  Предусмотреть задание графа в виде матрицы смежности/инцидентности, читаемой из файла, либо графически с помощью пользовательского интерфейса. \n",
    "\n",
    "3.  Разработать графический интерфейс пользователя с визуализацией графа и отображением кратчайшего расстояния между задаваемыми пользователем вершинами.\n",
    "\n",
    "4. По результатам работы проанализировать временную сложность работы заданного алгоритма в зависимости от числа узлов и ребер графа.\n",
    "Данные представить в виде таблицы.\n",
    "\n"
   ]
  },
  {
   "cell_type": "markdown",
   "metadata": {
    "id": "LhhUXrAmotIA"
   },
   "source": [
    "### Алгоритмы:\n",
    "\n",
    "Алгоритм Флойда-Уоршелла| Алгоритм Дейкстры | Алгоритм Беллмана-Форда | Алгоритм Джонсона| Алгоритм Левита | Алгоритм Йена\n",
    "\n"
   ]
  },
  {
   "cell_type": "markdown",
   "metadata": {
    "id": "Wggfn8l7nG72"
   },
   "source": [
    "### Выполнение:"
   ]
  },
  {
   "cell_type": "markdown",
   "metadata": {
    "id": "681a95mZnOSa"
   },
   "source": [
    "## Алгоритм Флойда-Уоршелла"
   ]
  },
  {
   "cell_type": "code",
   "execution_count": null,
   "metadata": {},
   "outputs": [],
   "source": []
  },
  {
   "cell_type": "markdown",
   "metadata": {},
   "source": [
    "## Алгоритм Дейкстры"
   ]
  },
  {
   "cell_type": "code",
   "execution_count": 9,
   "metadata": {},
   "outputs": [
    {
     "name": "stdout",
     "output_type": "stream",
     "text": [
      "[[0, 3, 1, 3, 0, 0], [3, 0, 4, 0, 0, 0], [1, 4, 0, 0, 7, 5], [3, 0, 0, 0, 0, 2], [0, 0, 7, 0, 0, 4], [0, 0, 5, 2, 4, 0]]\n",
      "Длины кратчайших путей от вершины 1 до всех остальных вершин соотвественно: \n",
      "[0, 3, 1, 3, 8, 5]\n"
     ]
    }
   ],
   "source": [
    "import math\n",
    "\n",
    "try:\n",
    "  #считываем текстовый файл\n",
    "    with open(\"C:/Users/denis/Python_SIAOD/SIAOD_Denis_Smirnov/Labs/Matrix_6.txt\", \"r\", encoding = \"utf-8\") as fileDij:\n",
    "        \n",
    "        matrix = [[int(num) for num in line.split(',')] for line in fileDij] #загружаем матрицу дорог графа\n",
    "\n",
    "        print(matrix)\n",
    "        \n",
    "        N = len(matrix) #число вершин в нашем графе\n",
    "        T = [math.inf] * N #финальная строка длин (inf - бесконечность)\n",
    "        startV = 0 #стартовая вершина\n",
    "        viewedV = {startV} #множество просмотренных вершин (в зависимости от старо-й вершины)\n",
    "        T[startV] = 0 #нулевой вес старостовой вершины должен быть равен 0!\n",
    "\n",
    "        #метод перебора всех связанных вершин\n",
    "        #просматриваем все веса других, связанных с startV вершин, и возвращаем вершину с мин.значением\n",
    "        def getLinkWithV(startV, matrix):\n",
    "            for i, weight in enumerate(matrix[startV]): #берём веса в графе \n",
    "                if (weight > 0):\n",
    "                    yield i\n",
    "\n",
    "        #метод нахождения в таблицы вершины с мин.весом\n",
    "        def findMinWei(T, viewedV):\n",
    "            amin = -1 #начальный минимум, начальное состояние\n",
    "            m = max(T) #находим макс.значение финимальной строки\n",
    "            for i, t in enumerate(T):\n",
    "                if (t < m and i not in viewedV): #находим мин.значение вершин, которые не были ещё рассмотрены\n",
    "                    m = t\n",
    "                    amin = i\n",
    "            return amin #возвращаем вершину с мин.значением\n",
    "\n",
    "        #заполяем T-табличку мин.весами\n",
    "        while (startV != -1): #цикл для прохождению по вершинам (если -1, то по всем вершинам прошли)\n",
    "            for j in getLinkWithV(startV, matrix): #перебераем все связанные вершины с вершиной startV\n",
    "                if (j not in viewedV): #если рассматриваемая строка таблицы не была просмотрена\n",
    "                    wei = T[startV] + matrix[startV][j] #получаем путь, что прошли до минимальной вершины\n",
    "                if (wei < T[j]): #если вес меньше последней позиции нашей финальной строки\n",
    "                    T[j] = wei #присваиваем минимальное значение, то есть меняем мин.длину\n",
    "          #должны найти мин.аргумент между последней строчкой и множеством, что уже было просмотрено\n",
    "            startV = findMinWei(T, viewedV) #находим мин.значение вершины\n",
    "            if (startV > 0):\n",
    "                viewedV.add(startV)\n",
    "        print(\"Длины кратчайших путей от вершины 1 до всех остальных вершин соотвественно: \")\n",
    "        print(T)\n",
    "\n",
    "except FileNotFoundError:\n",
    "    print(\"Файл не был найден\") "
   ]
  },
  {
   "cell_type": "markdown",
   "metadata": {
    "id": "diOb-K7LnO5a"
   },
   "source": [
    "### Вывод"
   ]
  }
 ],
 "metadata": {
  "colab": {
   "name": "Lab6.ipynb",
   "provenance": []
  },
  "kernelspec": {
   "display_name": "Python 3 (ipykernel)",
   "language": "python",
   "name": "python3"
  },
  "language_info": {
   "codemirror_mode": {
    "name": "ipython",
    "version": 3
   },
   "file_extension": ".py",
   "mimetype": "text/x-python",
   "name": "python",
   "nbconvert_exporter": "python",
   "pygments_lexer": "ipython3",
   "version": "3.9.7"
  }
 },
 "nbformat": 4,
 "nbformat_minor": 1
}
