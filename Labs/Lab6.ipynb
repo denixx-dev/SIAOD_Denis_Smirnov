{
 "cells": [
  {
   "cell_type": "markdown",
   "metadata": {
    "id": "0z3KlfKDn4_K"
   },
   "source": [
    "# Лабораторная работа 6. \n",
    "# Сетевые алгоритмы. Динамические алгоритмы поиска путей.\n"
   ]
  },
  {
   "cell_type": "markdown",
   "metadata": {
    "id": "96Gi_LEvmSVH"
   },
   "source": [
    "## Выполнил студент группы ФИО ГРУППА\n",
    "***"
   ]
  },
  {
   "cell_type": "markdown",
   "metadata": {
    "id": "GjdIp8aToKIe"
   },
   "source": [
    "### Задание\n",
    "\n",
    "1.  Реализовать алгоритм поиска кратчайшего расстояния между двумя вершинами ориентированного взвешенного графа в соответствии с вариантом. \n",
    "\n",
    "2.  Предусмотреть задание графа в виде матрицы смежности/инцидентности, читаемой из файла, либо графически с помощью пользовательского интерфейса. \n",
    "\n",
    "3.  Разработать графический интерфейс пользователя с визуализацией графа и отображением кратчайшего расстояния между задаваемыми пользователем вершинами.\n",
    "\n",
    "4. По результатам работы проанализировать временную сложность работы заданного алгоритма в зависимости от числа узлов и ребер графа.\n",
    "Данные представить в виде таблицы.\n",
    "\n"
   ]
  },
  {
   "cell_type": "markdown",
   "metadata": {
    "id": "LhhUXrAmotIA"
   },
   "source": [
    "### Алгоритмы:\n",
    "\n",
    "Алгоритм Флойда-Уоршелла| Алгоритм Дейкстры | Алгоритм Беллмана-Форда | Алгоритм Джонсона| Алгоритм Левита | Алгоритм Йена\n",
    "\n"
   ]
  },
  {
   "cell_type": "markdown",
   "metadata": {
    "id": "Wggfn8l7nG72"
   },
   "source": [
    "### Выполнение:"
   ]
  },
  {
   "cell_type": "markdown",
   "metadata": {},
   "source": [
    "## Подтягиваемые библиотеки"
   ]
  },
  {
   "cell_type": "code",
   "execution_count": 11,
   "metadata": {},
   "outputs": [],
   "source": [
    "import networkx as nx\n",
    "import math\n",
    "import matplotlib.pyplot as plt\n",
    "import numpy as np\n",
    "from collections import defaultdict \n",
    "import copy\n",
    "import time\n",
    "\n",
    "inf = np.iinfo('int').max\n",
    "restable = []\n",
    "\n",
    "def read_graph(file):\n",
    "    mat = []\n",
    "    with open(file, 'r') as fd:\n",
    "        for line in fd:\n",
    "            temp = []\n",
    "            for num in line.split(\",\"):\n",
    "                if num == 'inf':\n",
    "                    temp.append(0)\n",
    "                else:\n",
    "                    temp.append(int(num))\n",
    "            mat.append(temp)\n",
    "    return nx.from_numpy_matrix(np.matrix(mat), create_using = nx.DiGraph)\n",
    "\n",
    "def convert_adjmat(adjmat):\n",
    "    ret = []\n",
    "    for i in range(len(adjmat)):\n",
    "        ret.append([])\n",
    "        for j in range(len(adjmat)):\n",
    "            ret[i].append(adjmat[i, j])\n",
    "            if adjmat[i, j] == 0 and i != j:\n",
    "                ret[i][j] = inf\n",
    "    return ret\n",
    "\n",
    "def draw_graph(graph, path = None):\n",
    "    colors = None\n",
    "    if path:\n",
    "        colors = []\n",
    "        for item in graph.edges():\n",
    "            try:\n",
    "                index1 = path.index(item[0])\n",
    "                index2 = path.index(item[1])\n",
    "                if index1 + 1 != index2 and index1 - 1 != index2:\n",
    "                    raise\n",
    "                colors.append('red')\n",
    "            except:\n",
    "                colors.append('black')\n",
    "    pos = nx.circular_layout(graph)\n",
    "    labels = nx.get_edge_attributes(graph, 'weight')\n",
    "    nx.draw_networkx_nodes(graph, node_color = 'green', node_size = 200, pos = pos)\n",
    "    nx.draw_networkx_edges(graph,edge_color = colors, pos = pos, arrowstyle = 'simple, tail_width = 0.05')\n",
    "    nx.draw_networkx_labels(graph, pos = pos)\n",
    "    nx.draw_networkx_edge_labels(graph, pos = pos, edge_labels = labels)"
   ]
  },
  {
   "cell_type": "markdown",
   "metadata": {
    "id": "681a95mZnOSa"
   },
   "source": [
    "## Алгоритм Флойда-Уоршелла"
   ]
  },
  {
   "cell_type": "code",
   "execution_count": 19,
   "metadata": {},
   "outputs": [
    {
     "name": "stdout",
     "output_type": "stream",
     "text": [
      "[0, 3, 1, 3, inf, inf]\n",
      "[3, 0, 4, inf, inf, inf]\n",
      "[1, 4, 0, inf, 7, 5]\n",
      "[3, inf, inf, 0, inf, 2]\n",
      "[inf, inf, 7, inf, 0, 4]\n",
      "[inf, inf, 5, 2, 4, 0]\n",
      "[1, 0]\n",
      "0.001989603042602539\n"
     ]
    },
    {
     "data": {
      "image/png": "[encoded data removed]",
      "text/plain": [
       "<Figure size 432x288 with 1 Axes>"
      ]
     },
     "metadata": {},
     "output_type": "display_data"
    }
   ],
   "source": [
    "tic = time.time()\n",
    "\n",
    "try:\n",
    "  # считываем текстовый файл\n",
    "#     with open(\"C:/Users/Денис/Python_SIAOD/SIAOD_Denis_Smirnov/Labs/Matrix_6.txt\", \"r\", encoding = \"utf-8\") as fileDij:\n",
    "    with open(\"C:/Users/Денис/Python_SIAOD/Python_SIAOD/Labs/Matrix_6.txt\", \"r\", encoding = \"utf-8\") as fileDij:\n",
    "        matrix = [[int(num) for num in line.split(',')] for line in fileDij] # загружаем матрицу дорог графа\n",
    "        \n",
    "        for i in range(len(matrix)):\n",
    "            for j in range(len(matrix[i])):\n",
    "                if i!=j and matrix[i][j]==0:\n",
    "                    matrix[i][j] = math.inf\n",
    "        \n",
    "        for i in matrix:  \n",
    "            print(i)\n",
    "            \n",
    "        def get_path(P, u, v):\n",
    "            # Сначала записываем в список path пройденных путей конечную вершину\n",
    "            path = [u]\n",
    "            # Будем записывать в path все вершины, пока не придем до начальной\n",
    "            while u != v:\n",
    "                # Номер промежуточной вершины\n",
    "                u = P[u][v]\n",
    "                path.append(u)\n",
    "            return path\n",
    "    \n",
    "        # Число вершин в графе\n",
    "        N = len(matrix) \n",
    "        # Начальный список предыдущих вершин для поиска кратчайших маршрутов\n",
    "        P = [[v for v in range(N)] for u in range(N)] \n",
    "        \n",
    "        \n",
    "        # Реализация алгоритма Флойда-Уоршелла\n",
    "        for k in range(N):\n",
    "            for i in range(N):\n",
    "                for j in range(N):\n",
    "                    # Проходимся по дополнительным вершинам к\n",
    "                    d = matrix[i][k] + matrix[k][j]\n",
    "                    # Если маршрут через доп. точки оказался меньше, чем тот, который был в самой матрице,\n",
    "                    # то сохраняем его и сохраняем номер вершины к, через которую нужно пройти\n",
    "                    if matrix[i][j] > d:\n",
    "                        matrix[i][j] = d\n",
    "                        P[i][j] = k\n",
    "        \n",
    "        end = 1\n",
    "        start = 0\n",
    "        print(get_path(P, end, start))\n",
    "        tac = time.time()\n",
    "        floyd_time = tac-tic\n",
    "        print(floyd_time)\n",
    "        \n",
    "        graph = nx.Graph(np.matrix(matrix))\n",
    "        nx.draw(graph, pos=nx.spring_layout(graph), with_labels=True, node_size=300, arrows=True)\n",
    "        \n",
    "except FileNotFoundError:\n",
    "    print(\"Файл не был найден\") "
   ]
  },
  {
   "cell_type": "markdown",
   "metadata": {},
   "source": [
    "## Алгоритм Дейкстры"
   ]
  },
  {
   "cell_type": "code",
   "execution_count": 20,
   "metadata": {},
   "outputs": [
    {
     "name": "stdout",
     "output_type": "stream",
     "text": [
      "[0, 3, 1, 3, 0, 0]\n",
      "[3, 0, 4, 0, 0, 0]\n",
      "[1, 4, 0, 0, 7, 5]\n",
      "[3, 0, 0, 0, 0, 2]\n",
      "[0, 0, 7, 0, 0, 4]\n",
      "[0, 0, 5, 2, 4, 0]\n",
      "N=  6\n",
      "Длины кратчайших путей от вершины 1 до всех остальных вершин соотвественно: \n",
      "[0, 3, 1, 3, 8, 5]\n",
      "0.001001119613647461\n"
     ]
    },
    {
     "data": {
      "image/png": "[encoded data removed]",
      "text/plain": [
       "<Figure size 432x288 with 1 Axes>"
      ]
     },
     "metadata": {},
     "output_type": "display_data"
    }
   ],
   "source": [
    "def __dijkstra(adjmat, start):\n",
    "    dist = [inf for item in adjmat]\n",
    "    dist[start] = 0\n",
    "    vert = start\n",
    "    paths = [[start] for item in adjmat]\n",
    "    nextdist = dist.copy()\n",
    "    for k in range(len(dist)):\n",
    "        for i in range(len(dist)):\n",
    "            if adjmat[vert][i] != inf and dist[vert] != inf and dist[i] > adjmat[vert][i] + dist[vert]:\n",
    "                dist[i] = adjmat[vert][i] + dist[vert]\n",
    "                nextdist[i] = dist[i]\n",
    "                paths[i] = paths[vert].copy()\n",
    "                paths[i].append(i)\n",
    "        nextdist[vert] = inf\n",
    "        vert = min(range(len(nextdist)), key = nextdist.__getitem__)\n",
    "    return dist, paths\n",
    "\n",
    "def dijkstra(graph, start, end):\n",
    "    adjmat = convert_adjmat(nx.adjacency_matrix(graph).todense())\n",
    "    dist, paths = __dijkstra(adjmat, start)\n",
    "    if len(paths[end]) == 1:\n",
    "        print(f\"Путь из {start} в {end} не существует\")\n",
    "        draw_graph(graph)\n",
    "        return\n",
    "    print(f\"Красным отмечен короткий путь из {start} в {end}\")\n",
    "    print(f\"Длина пути {dist[end]}\")\n",
    "    draw_graph(graph, paths[end])\n",
    "    \n",
    "tic = time.time()    \n",
    "try:\n",
    "  #считываем текстовый файл\n",
    "#     with open(\"C:/Users/Денис/Python_SIAOD/SIAOD_Denis_Smirnov/Labs/Matrix_6.txt\", \"r\", encoding = \"utf-8\") as fileDij:\n",
    "    with open(\"C:/Users/Денис/Python_SIAOD/Python_SIAOD/Labs/Matrix_6.txt\", \"r\", encoding = \"utf-8\") as fileDij:\n",
    "        matrix = [[int(num) for num in line.split(',')] for line in fileDij] #загружаем матрицу дорог графа\n",
    "        \n",
    "        for i in matrix:  \n",
    "            print(i)\n",
    "        \n",
    "        N = len(matrix) #число вершин в нашем графе\n",
    "        print(\"N= \", N)\n",
    "        T = [math.inf] * N #финальная строка длин (inf - бесконечность)\n",
    "        startV = 0 #стартовая вершина\n",
    "        viewedV = {startV} #множество просмотренных вершин (в зависимости от старnовой вершины)\n",
    "        T[startV] = 0 #нулевой вес стартовой вершины должен быть равен 0!\n",
    "\n",
    "        #метод перебора всех связанных вершин\n",
    "        #просматриваем все веса других, связанных с startV вершин, и возвращаем вершину с мин.значением\n",
    "        def getLinkWithV(startV, matrix):\n",
    "            for i, weight in enumerate(matrix[startV]): #берём веса в графе \n",
    "                if (weight > 0):\n",
    "                    yield i\n",
    "\n",
    "        #метод нахождения в таблицы вершины с мин.весом\n",
    "        def findMinWei(T, viewedV):\n",
    "            amin = -1 #начальный минимум, начальное состояние\n",
    "            m = max(T) #находим макс.значение финимальной строки\n",
    "            for i, t in enumerate(T):\n",
    "                if (t < m and i not in viewedV): #находим мин.значение вершин, которые не были ещё рассмотрены\n",
    "                    m = t\n",
    "                    amin = i\n",
    "            return amin #возвращаем вершину с мин.значением\n",
    "\n",
    "        #заполяем T-табличку мин.весами\n",
    "        while (startV != -1): #цикл для прохождению по вершинам (если -1, то по всем вершинам прошли)\n",
    "            for j in getLinkWithV(startV, matrix): #перебераем все связанные вершины с вершиной startV\n",
    "                if (j not in viewedV): #если рассматриваемая строка таблицы не была просмотрена\n",
    "                    wei = T[startV] + matrix[startV][j] #получаем путь, что прошли до минимальной вершины\n",
    "                if (wei < T[j]): #если вес меньше последней позиции нашей финальной строки\n",
    "                    T[j] = wei #присваиваем минимальное значение, то есть меняем мин.длину\n",
    "          #должны найти мин.аргумент между последней строчкой и множеством, что уже было просмотрено\n",
    "            startV = findMinWei(T, viewedV) #находим мин.значение вершины\n",
    "            if (startV > 0):\n",
    "                viewedV.add(startV)\n",
    "        print(\"Длины кратчайших путей от вершины 1 до всех остальных вершин соотвественно: \")\n",
    "        print(T)\n",
    "        tac = time.time()\n",
    "        dij_time= tac - tic\n",
    "        print(dij_time)\n",
    "        \n",
    "        graph = nx.Graph(np.matrix(matrix))\n",
    "        nx.draw(graph, pos=nx.spring_layout(graph), with_labels=True, node_size=300, arrows=True)\n",
    "        \n",
    "except FileNotFoundError:\n",
    "    print(\"Файл не был найден\") "
   ]
  },
  {
   "cell_type": "markdown",
   "metadata": {},
   "source": [
    "## Алгоритм Беллмана-Форда"
   ]
  },
  {
   "cell_type": "code",
   "execution_count": 25,
   "metadata": {},
   "outputs": [
    {
     "name": "stdout",
     "output_type": "stream",
     "text": [
      "Начальная вершина:1\n",
      "Конечная врешина:3\n"
     ]
    },
    {
     "name": "stderr",
     "output_type": "stream",
     "text": [
      "<ipython-input-25-366793487b36>:47: FutureWarning: adjacency_matrix will return a scipy.sparse array instead of a matrix in Networkx 3.0.\n",
      "  adjmat = convert_adjmat(nx.adjacency_matrix(graph).todense())\n"
     ]
    },
    {
     "name": "stdout",
     "output_type": "stream",
     "text": [
      "Кратчайший путь из 1 в 3\n",
      "Длина пути 6\n",
      "0.06005501747131348\n"
     ]
    },
    {
     "data": {
      "image/png": "[encoded data removed]",
      "text/plain": [
       "<Figure size 432x288 with 1 Axes>"
      ]
     },
     "metadata": {},
     "output_type": "display_data"
    }
   ],
   "source": [
    "# def BF(nodes, edges, src):\n",
    "#     path_lens = {}\n",
    "#     for i in range(len(nodes)):\n",
    "#         path_lens[i] = math.inf\n",
    "#     path_lens[src] = 0\n",
    "    \n",
    "#     paths = {}\n",
    "#     for i in range(len(nodes)):\n",
    "#         paths[i] = []\n",
    "#     paths[src] = [src]\n",
    "    \n",
    "#     for i in range(len(nodes)-1):\n",
    "#         for (u,v), w_uv in edges.items():\n",
    "#             if path_lens[u] + w_uv < path_lens[v]:\n",
    "#                 path_lens[v] = path_lens[u] + w_uv\n",
    "#                 paths[v] = paths[u] + [v]\n",
    "#     return path_lens, paths\n",
    "\n",
    "# nodes = [0,1,2,3,4,5]\n",
    "# edges = {(0,1):1.0, (1,0):1.0, (0,2):1, (2,0):1,\n",
    "#         (0,3):2.0, (3,0):2.0, (1,3): 0, (3,1):0,\n",
    "#         (1,4):3, (4,1):3, (2,3):1, (3,2):1,\n",
    "#         (4,5):2.0, (5,4):2.0, (5,3):-1.0}\n",
    "\n",
    "# shortest_path_lens, shortest_paths = BF(nodes, edges, 2)\n",
    "\n",
    "# print(shortest_path_lens)\n",
    "# print(shortest_paths)\n",
    "\n",
    "\n",
    "def __bellman_ford(adjmat, start):\n",
    "    # Определяем расстояния от исходной вершины до всех остальных\n",
    "    dist = [inf for item in adjmat]\n",
    "    dist[start] = 0\n",
    "    paths = [[start] for item in adjmat]\n",
    "    for i in range(len(adjmat)):\n",
    "        for u in range(len(adjmat)):\n",
    "             for v in range(len(adjmat)):\n",
    "                    # Проверяем, есть ли вес с отрицательным значением\n",
    "                    if dist[u] != inf and adjmat[u][v] != inf and dist[v] > dist[u] + adjmat[u][v]:\n",
    "                        dist[v] = dist[u] + adjmat[u][v]\n",
    "                        paths[v] = paths[u].copy()\n",
    "                        paths[v].append(v)\n",
    "    return dist, paths\n",
    "\n",
    "def bellman_ford(graph, start, end):\n",
    "    adjmat = convert_adjmat(nx.adjacency_matrix(graph).todense())\n",
    "    dist, paths = __bellman_ford(adjmat, start)\n",
    "    # Вычисляются самые короткие расстояния\n",
    "    if len(paths[end]) == 1:\n",
    "        print(f\"Путь из {start} в {end} не существует\")\n",
    "        draw_graph(graph)\n",
    "        return\n",
    "    print(f\"Кратчайший путь из {start} в {end}\")\n",
    "    print(f\"Длина пути {dist[end]}\")\n",
    "    draw_graph(graph, paths[end])\n",
    "\n",
    "graph = read_graph(\"C:/Users/Денис/Python_SIAOD/Python_SIAOD/Labs/Matrix_6.txt\")\n",
    "node1 = int(input('Начальная вершина:'))\n",
    "node2 = int(input('Конечная врешина:'))\n",
    "tic = time.time()\n",
    "bellman_ford(graph, node1, node2)\n",
    "tac = time.time()\n",
    "bellman = tac-tic\n",
    "print(bellman)\n",
    "            "
   ]
  },
  {
   "cell_type": "markdown",
   "metadata": {},
   "source": [
    "## Алгоритмы Джонсона"
   ]
  },
  {
   "cell_type": "code",
   "execution_count": 21,
   "metadata": {},
   "outputs": [
    {
     "name": "stdout",
     "output_type": "stream",
     "text": [
      "Начальная вершина:1\n",
      "Конечная врешина:4\n"
     ]
    },
    {
     "name": "stderr",
     "output_type": "stream",
     "text": [
      "<ipython-input-21-deb2b56e655d>:26: FutureWarning: adjacency_matrix will return a scipy.sparse array instead of a matrix in Networkx 3.0.\n",
      "  adjmat = convert_adjmat(nx.adjacency_matrix(graph).todense())\n"
     ]
    },
    {
     "name": "stdout",
     "output_type": "stream",
     "text": [
      "Кратчайший путь из 1 в 4\n",
      "Длина пути 11\n",
      "0.05969500541687012\n"
     ]
    },
    {
     "data": {
      "image/png": "[encoded data removed]",
      "text/plain": [
       "<Figure size 432x288 with 1 Axes>"
      ]
     },
     "metadata": {},
     "output_type": "display_data"
    }
   ],
   "source": [
    "def __jonson(adjmat):\n",
    "    adjmatf = adjmat.copy()\n",
    "    for item in adjmatf:\n",
    "        item.append(inf)\n",
    "    adjmatf.append([])\n",
    "    for i in range(len(adjmatf)):\n",
    "        adjmatf[-1].append(0)\n",
    "    bell_dist, paths = __bellman_ford(adjmatf, len(adjmatf) - 1)\n",
    "    for u in range(len(adjmat)):\n",
    "        for v in range(len(adjmat)):\n",
    "            if adjmat[u][v] != inf and bell_dist[u] != inf and bell_dist[v] != inf:\n",
    "                adjmat[u][v] += bell_dist[u] - bell_dist[v]\n",
    "    resdist = []\n",
    "    respaths = []\n",
    "    for i in range(len(adjmat)):\n",
    "            dist, paths = __dijkstra(adjmat, i)\n",
    "            resdist.append(dist)\n",
    "            respaths.append(paths)\n",
    "    for u in range(len(adjmat)):\n",
    "        for v in range(len(adjmat)):\n",
    "            if resdist[u][v] != inf and bell_dist[u] != inf and bell_dist[v] != inf:\n",
    "                resdist[u][v] +=  bell_dist[v] - bell_dist[u]\n",
    "    return resdist, respaths\n",
    "\n",
    "def jonson(graph, start, end):\n",
    "    adjmat = convert_adjmat(nx.adjacency_matrix(graph).todense())\n",
    "    dist, paths = __jonson(adjmat)\n",
    "    if len(paths[start][end]) == 1:\n",
    "        print(f\"Путь из {start} в {end} не существует\")\n",
    "        draw_graph(graph)\n",
    "        return\n",
    "    print(f\"Кратчайший путь из {start} в {end}\")\n",
    "    print(f\"Длина пути {dist[start][end]}\")\n",
    "    draw_graph(graph, paths[start][end])\n",
    "\n",
    "graph = read_graph(\"C:/Users/Денис/Python_SIAOD/Python_SIAOD/Labs/Matrix_6.txt\")\n",
    "node1 = int(input('Начальная вершина:'))\n",
    "node2 = int(input('Конечная врешина:'))\n",
    "tic = time.time()\n",
    "jonson(graph, node1, node2)\n",
    "tac = time.time()\n",
    "jonson = tac-tic\n",
    "print(jonson)"
   ]
  },
  {
   "cell_type": "markdown",
   "metadata": {},
   "source": [
    "## Алгоритм Левита"
   ]
  },
  {
   "cell_type": "code",
   "execution_count": 22,
   "metadata": {},
   "outputs": [
    {
     "name": "stdout",
     "output_type": "stream",
     "text": [
      "Начальная вершина:1\n",
      "Конечная врешина:4\n"
     ]
    },
    {
     "name": "stderr",
     "output_type": "stream",
     "text": [
      "<ipython-input-22-2cc612e20182>:43: FutureWarning: adjacency_matrix will return a scipy.sparse array instead of a matrix in Networkx 3.0.\n",
      "  adjmat = convert_adjmat(nx.adjacency_matrix(graph).todense())\n"
     ]
    },
    {
     "name": "stdout",
     "output_type": "stream",
     "text": [
      "Кратчайший путь из 1 в 4\n",
      "Длина пути 11\n",
      "0.061760902404785156\n"
     ]
    },
    {
     "data": {
      "image/png": "[encoded data removed]",
      "text/plain": [
       "<Figure size 432x288 with 1 Axes>"
      ]
     },
     "metadata": {},
     "output_type": "display_data"
    }
   ],
   "source": [
    "def __levit(adjmat, start):\n",
    "    dist = [inf for item in adjmat]\n",
    "    dist[start] = 0\n",
    "    # массив, содержащий текущих предков\n",
    "    paths = [[start] for item in adjmat]\n",
    "    m0 = set() # вершины, расстояние до которых уже вычислено\n",
    "    m1 = {'main': [start], 'urgent': []} # вершины, расстояние до которых вычисляется\n",
    "    m2 = set(range(len(adjmat))) # вершины, расстояние до которых ещё не вычислено\n",
    "    m2.remove(start)\n",
    "    while len(m1['main']) or len(m1['urgent']):\n",
    "        u = None\n",
    "        if len(m1['urgent']):\n",
    "            u = m1['urgent'].pop(0)\n",
    "        else:\n",
    "            u = m1['main'].pop(0)\n",
    "        for v in range(len(adjmat)):\n",
    "            if dist[u] == inf or adjmat[u][v] == inf:\n",
    "                continue\n",
    "            # если вершина v принадлежит m2, то v переносим в m1 в конец\n",
    "            if v in m2:\n",
    "                m2.remove(v)\n",
    "                m1['main'].append(v)\n",
    "                dist[v] = min(dist[v], dist[u] + adjmat[u][v])\n",
    "                paths[v] = paths[u].copy()\n",
    "                paths[v].append(v)\n",
    "            # Если v принадлежит m1, то пытаемся улучшить значение dist[v]\n",
    "            elif v in m1['main'] or v in m1['urgent']:\n",
    "                dist[v] = min(dist[v], dist[u] + adjmat[u][v])\n",
    "                paths[v] = paths[u].copy()\n",
    "                paths[v].append(v)\n",
    "            # Если v принадлежит m0, и если dist[v] можно улучшить.\n",
    "            # то улучшаем dist[v], а вершину v возвращаем в множество m1, помещая её в начало\n",
    "            elif v in m0 and dist[v] > dist[u] + adjmat[u][v]:\n",
    "                m0.remove(v)\n",
    "                m1['urgent'].append(v)\n",
    "                dist[v] = dist[u] + adjmat[u][v]\n",
    "                paths[v] = paths[u].copy()\n",
    "                paths[v].append(v)\n",
    "        m0.add(u)\n",
    "    return dist, paths\n",
    "\n",
    "def levit(graph, start, end):\n",
    "    adjmat = convert_adjmat(nx.adjacency_matrix(graph).todense())\n",
    "    dist, paths = __levit(adjmat, start)\n",
    "    if len(paths[end]) == 1:\n",
    "        print(f\"Путь из {start} в {end} не существует\")\n",
    "        draw_graph(graph)\n",
    "        return\n",
    "    print(f\"Кратчайший путь из {start} в {end}\")\n",
    "    print(f\"Длина пути {dist[end]}\")\n",
    "    draw_graph(graph, paths[end])\n",
    "\n",
    "graph = read_graph(\"C:/Users/Денис/Python_SIAOD/Python_SIAOD/Labs/Matrix_6.txt\")\n",
    "node1 = int(input('Начальная вершина:'))\n",
    "node2 = int(input('Конечная врешина:'))\n",
    "tic = time.time()\n",
    "levit(graph, node1, node2)\n",
    "tac = time.time()\n",
    "lewitt = tac - tic\n",
    "print(lewitt)"
   ]
  },
  {
   "cell_type": "markdown",
   "metadata": {},
   "source": [
    "## Алгоритм Йена"
   ]
  },
  {
   "cell_type": "code",
   "execution_count": 23,
   "metadata": {},
   "outputs": [
    {
     "name": "stdout",
     "output_type": "stream",
     "text": [
      "Начальная вершина:1\n",
      "Конечная врешина:4\n",
      "Колличество путей:2\n"
     ]
    },
    {
     "name": "stderr",
     "output_type": "stream",
     "text": [
      "<ipython-input-23-1a57dcc4452c>:53: FutureWarning: adjacency_matrix will return a scipy.sparse array instead of a matrix in Networkx 3.0.\n",
      "  adjmat = convert_adjmat(nx.adjacency_matrix(graph).todense())\n"
     ]
    },
    {
     "name": "stdout",
     "output_type": "stream",
     "text": [
      "1-й короткий путь из 1 в 4\n",
      "Длина пути 11\n"
     ]
    },
    {
     "data": {
      "image/png": "[encoded data removed]",
      "text/plain": [
       "<Figure size 432x288 with 1 Axes>"
      ]
     },
     "metadata": {},
     "output_type": "display_data"
    },
    {
     "name": "stdout",
     "output_type": "stream",
     "text": [
      "2-й короткий путь из 1 в 4\n",
      "Длина пути 11\n"
     ]
    },
    {
     "data": {
      "image/png": "[encoded data removed]",
      "text/plain": [
       "<Figure size 432x288 with 1 Axes>"
      ]
     },
     "metadata": {},
     "output_type": "display_data"
    },
    {
     "name": "stdout",
     "output_type": "stream",
     "text": [
      "0.5287816524505615\n"
     ]
    }
   ],
   "source": [
    "def __yen(adjmat, start, end, K):\n",
    "    candidates = set()\n",
    "    dists, paths = __bellman_ford(adjmat, start)\n",
    "    resultPaths = [paths[end]]\n",
    "    resultDists = [dists[end]]\n",
    "    if len(resultPaths[0]) == 1:\n",
    "        return result\n",
    "\n",
    "    for k in range(1, K):\n",
    "        mat = copy.deepcopy(adjmat)\n",
    "        for i in range(len(resultPaths[-1]) - 1):\n",
    "            spurNode = resultPaths[-1][i]\n",
    "            rootPath = resultPaths[-1][:i + 1]\n",
    "            \n",
    "            for path in resultPaths:\n",
    "                if rootPath == path[:i + 1]:\n",
    "                    mat[path[i]][path[i + 1]] = inf\n",
    "            \n",
    "            for node in rootPath:\n",
    "                if node != spurNode:\n",
    "                    mat[node] = [inf for j in range(len(adjmat))]\n",
    "\n",
    "            dists, paths = __bellman_ford(mat, spurNode)\n",
    "            \n",
    "            spurPath = paths[end][1:]\n",
    "            if len(spurPath) == 0:\n",
    "                continue\n",
    "            \n",
    "            totalPath = rootPath\n",
    "            totalPath.extend(spurPath)\n",
    "            totalPath = tuple(totalPath)\n",
    "            \n",
    "            totalDist = 0\n",
    "            for j in range(1, len(totalPath)):\n",
    "                totalDist += adjmat[totalPath[j - 1]][totalPath[j]]\n",
    "            \n",
    "            candidates.add((totalPath, totalDist))\n",
    "        \n",
    "        if not len(candidates):\n",
    "            break\n",
    "        \n",
    "        candidates_l = list(candidates)\n",
    "        candidates_l.sort(key = lambda x: x[1])\n",
    "        \n",
    "        resultPaths.append(list(candidates_l[0][0]))\n",
    "        resultDists.append(candidates_l[0][1])\n",
    "        \n",
    "        candidates.remove(candidates_l[0])\n",
    "                    \n",
    "    return resultDists, resultPaths\n",
    "\n",
    "def yen(graph, start, end, K):\n",
    "    adjmat = convert_adjmat(nx.adjacency_matrix(graph).todense())\n",
    "    dists, paths = __yen(adjmat, start, end, K)\n",
    "    \n",
    "    for path, dist, i in zip(paths, dists, range(len(paths))):\n",
    "        print(f\"{i + 1}-й короткий путь из {start} в {end}\")\n",
    "        print(f\"Длина пути {dist}\")\n",
    "        plt.figure(i)\n",
    "        draw_graph(graph, path)\n",
    "        plt.show()\n",
    "    \n",
    "\n",
    "graph = read_graph(\"C:/Users/Денис/Python_SIAOD/Python_SIAOD/Labs/Matrix_6.txt\")\n",
    "node1 = int(input('Начальная вершина:'))\n",
    "node2 = int(input('Конечная врешина:'))\n",
    "k = int(input('Колличество путей:'))\n",
    "tic = time.time()\n",
    "yen(graph, node1, node2, k)\n",
    "tac = time.time()\n",
    "yen = tac- tic\n",
    "print(yen)"
   ]
  },
  {
   "cell_type": "markdown",
   "metadata": {
    "id": "diOb-K7LnO5a"
   },
   "source": [
    "### Вывод"
   ]
  },
  {
   "cell_type": "code",
   "execution_count": 26,
   "metadata": {},
   "outputs": [
    {
     "data": {
      "text/html": [
       "<div>\n",
       "<style scoped>\n",
       "    .dataframe tbody tr th:only-of-type {\n",
       "        vertical-align: middle;\n",
       "    }\n",
       "\n",
       "    .dataframe tbody tr th {\n",
       "        vertical-align: top;\n",
       "    }\n",
       "\n",
       "    .dataframe thead th {\n",
       "        text-align: right;\n",
       "    }\n",
       "</style>\n",
       "<table border=\"1\" class=\"dataframe\">\n",
       "  <thead>\n",
       "    <tr style=\"text-align: right;\">\n",
       "      <th></th>\n",
       "      <th>Фрактал</th>\n",
       "      <th>Глубина = 3</th>\n",
       "    </tr>\n",
       "  </thead>\n",
       "  <tbody>\n",
       "    <tr>\n",
       "      <th>0</th>\n",
       "      <td>Алгоритм Флойда-Уоршелла</td>\n",
       "      <td>0.001989603042602539</td>\n",
       "    </tr>\n",
       "    <tr>\n",
       "      <th>1</th>\n",
       "      <td>Алгоритм Дейкстры</td>\n",
       "      <td>0.001001119613647461</td>\n",
       "    </tr>\n",
       "    <tr>\n",
       "      <th>2</th>\n",
       "      <td>Алгоритм Беллмана-Форда</td>\n",
       "      <td>0.06005501747131348</td>\n",
       "    </tr>\n",
       "    <tr>\n",
       "      <th>3</th>\n",
       "      <td>Алгоритм Джонсона</td>\n",
       "      <td>0.05969500541687012</td>\n",
       "    </tr>\n",
       "    <tr>\n",
       "      <th>4</th>\n",
       "      <td>Алгоритм Левита</td>\n",
       "      <td>0.061760902404785156</td>\n",
       "    </tr>\n",
       "    <tr>\n",
       "      <th>5</th>\n",
       "      <td>Алгоритм Йена</td>\n",
       "      <td>0.5287816524505615</td>\n",
       "    </tr>\n",
       "  </tbody>\n",
       "</table>\n",
       "</div>"
      ],
      "text/plain": [
       "                    Фрактал           Глубина = 3\n",
       "0  Алгоритм Флойда-Уоршелла  0.001989603042602539\n",
       "1         Алгоритм Дейкстры  0.001001119613647461\n",
       "2   Алгоритм Беллмана-Форда   0.06005501747131348\n",
       "3         Алгоритм Джонсона   0.05969500541687012\n",
       "4           Алгоритм Левита  0.061760902404785156\n",
       "5             Алгоритм Йена    0.5287816524505615"
      ]
     },
     "execution_count": 26,
     "metadata": {},
     "output_type": "execute_result"
    }
   ],
   "source": [
    "import pandas as pd\n",
    "table = [[\"Алгоритм Флойда-Уоршелла\", str(floyd_time)],\n",
    "        [\"Алгоритм Дейкстры\", str(dij_time)],\n",
    "        [\"Алгоритм Беллмана-Форда\", str(bellman)],\n",
    "        [\"Алгоритм Джонсона\", str(jonson)],\n",
    "        [\"Алгоритм Левита\", str(lewitt)],\n",
    "        [\"Алгоритм Йена\", str(yen)]]\n",
    "\n",
    "pd.DataFrame(table, columns=[\"Фрактал\",\"Глубина = 3\"])"
   ]
  },
  {
   "cell_type": "code",
   "execution_count": null,
   "metadata": {},
   "outputs": [],
   "source": []
  }
 ],
 "metadata": {
  "colab": {
   "name": "Lab6.ipynb",
   "provenance": []
  },
  "kernelspec": {
   "display_name": "Python 3",
   "language": "python",
   "name": "python3"
  },
  "language_info": {
   "codemirror_mode": {
    "name": "ipython",
    "version": 3
   },
   "file_extension": ".py",
   "mimetype": "text/x-python",
   "name": "python",
   "nbconvert_exporter": "python",
   "pygments_lexer": "ipython3",
   "version": "3.8.3"
  }
 },
 "nbformat": 4,
 "nbformat_minor": 1
}
